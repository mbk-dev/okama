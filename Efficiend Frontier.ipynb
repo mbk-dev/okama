{
 "cells": [
  {
   "cell_type": "code",
   "execution_count": 17,
   "metadata": {},
   "outputs": [
    {
     "name": "stdout",
     "output_type": "stream",
     "text": [
      "The autoreload extension is already loaded. To reload it, use:\n",
      "  %reload_ext autoreload\n"
     ]
    }
   ],
   "source": [
    "import math\n",
    "import numpy as np\n",
    "import pandas as pd\n",
    "import matplotlib. pyplot as plt\n",
    "from okama.assets import Asset, AssetList, Portfolio, approx_return_risk_adjusted\n",
    "from okama.frontier import EfficientFrontier, EfficientFrontierReb, Plots\n",
    "%load_ext autoreload\n",
    "%autoreload 2"
   ]
  },
  {
   "cell_type": "markdown",
   "metadata": {},
   "source": [
    "### EF for rebalanced portfolio"
   ]
  },
  {
   "cell_type": "code",
   "execution_count": 19,
   "metadata": {},
   "outputs": [],
   "source": [
    "l = ['SPY.US', 'GLD.US', '0165-70287767.RUFUND']"
   ]
  },
  {
   "cell_type": "code",
   "execution_count": 27,
   "metadata": {},
   "outputs": [],
   "source": [
    "x = Plots(l, curr='RUB')"
   ]
  },
  {
   "cell_type": "code",
   "execution_count": 20,
   "metadata": {},
   "outputs": [],
   "source": [
    "ef1 = EfficientFrontierReb(symbols=l, curr='RUB', period='Y')"
   ]
  },
  {
   "cell_type": "code",
   "execution_count": 21,
   "metadata": {},
   "outputs": [],
   "source": [
    "ef2 = EfficientFrontierReb(symbols=l, curr='RUB', period='N')"
   ]
  },
  {
   "cell_type": "code",
   "execution_count": 22,
   "metadata": {},
   "outputs": [],
   "source": [
    "df1 = ef1.ef_points"
   ]
  },
  {
   "cell_type": "code",
   "execution_count": 23,
   "metadata": {},
   "outputs": [],
   "source": [
    "df2 = ef2.ef_points"
   ]
  },
  {
   "cell_type": "code",
   "execution_count": 28,
   "metadata": {},
   "outputs": [
    {
     "name": "stderr",
     "output_type": "stream",
     "text": [
      "C:\\Users\\Sergey\\OneDrive\\NoteBooks\\okama\\okama\\frontier.py:300: MatplotlibDeprecationWarning: Adding an axes using the same arguments as a previous axes currently reuses the earlier instance.  In a future version, a new instance will always be created and returned.  Meanwhile, this warning can be suppressed, and the future behavior ensured, by passing a unique label to each axes instance.\n",
      "  ax = plt.axes()\n"
     ]
    },
    {
     "data": {
      "text/plain": [
       "<matplotlib.axes._subplots.AxesSubplot at 0x23de1dda2e0>"
      ]
     },
     "execution_count": 28,
     "metadata": {},
     "output_type": "execute_result"
    },
    {
     "data": {
      "image/png": "[encoded data removed]",
      "text/plain": [
       "<Figure size 864x432 with 1 Axes>"
      ]
     },
     "metadata": {
      "needs_background": "light"
     },
     "output_type": "display_data"
    }
   ],
   "source": [
    "fig = plt.figure(figsize=(12,6))\n",
    "#fig.subplots_adjust(bottom=0.2, top=1.5)\n",
    "ax = plt.axes()\n",
    "ax.plot(df1.Risk, df1.CAGR)\n",
    "ax.plot(df2.Risk, df2.CAGR)\n",
    "#ax.plot(df.Risk, df['Return (risk adjusted approx)'])\n",
    "#ax.plot(df.Risk, df.Return)\n",
    "x.plot_assets(type='cagr')"
   ]
  },
  {
   "cell_type": "code",
   "execution_count": 89,
   "metadata": {},
   "outputs": [
    {
     "name": "stdout",
     "output_type": "stream",
     "text": [
      "0.06255878505885447\n"
     ]
    },
    {
     "data": {
      "text/plain": [
       "{'Weights': array([1.13242749e-13, 1.00000000e+00, 2.66349443e-14]),\n",
       " 'CAGR': 0.14876820092229415,\n",
       " 'Risk': 0.25395663879437363}"
      ]
     },
     "execution_count": 89,
     "metadata": {},
     "output_type": "execute_result"
    }
   ],
   "source": [
    "ef2.max_return"
   ]
  },
  {
   "cell_type": "code",
   "execution_count": 34,
   "metadata": {},
   "outputs": [
    {
     "name": "stdout",
     "output_type": "stream",
     "text": [
      "0.04483228438832076\n"
     ]
    },
    {
     "data": {
      "text/plain": [
       "{'Weights': array([4.87907220e-01, 5.12092780e-01, 2.28202082e-14]),\n",
       " 'CAGR': 0.15613058290385662,\n",
       " 'Risk': 0.18039757461537959}"
      ]
     },
     "execution_count": 34,
     "metadata": {},
     "output_type": "execute_result"
    }
   ],
   "source": [
    "ef1.max_return"
   ]
  },
  {
   "cell_type": "code",
   "execution_count": 90,
   "metadata": {},
   "outputs": [
    {
     "data": {
      "text/plain": [
       "(0.05958099443859356, 0.11480626676130656)"
      ]
     },
     "execution_count": 90,
     "metadata": {},
     "output_type": "execute_result"
    }
   ],
   "source": [
    "ef2.gmv"
   ]
  },
  {
   "cell_type": "code",
   "execution_count": 69,
   "metadata": {},
   "outputs": [
    {
     "data": {
      "text/plain": [
       "(0.059105592425563756, 0.11825260971638452)"
      ]
     },
     "execution_count": 69,
     "metadata": {},
     "output_type": "execute_result"
    }
   ],
   "source": [
    "ef1.gmv"
   ]
  },
  {
   "cell_type": "code",
   "execution_count": 78,
   "metadata": {},
   "outputs": [
    {
     "data": {
      "text/plain": [
       "array([0.04075501, 0.02019816, 0.93904683])"
      ]
     },
     "execution_count": 78,
     "metadata": {},
     "output_type": "execute_result"
    }
   ],
   "source": [
    "ef1.gmv_weights "
   ]
  },
  {
   "cell_type": "code",
   "execution_count": 79,
   "metadata": {},
   "outputs": [
    {
     "data": {
      "text/plain": [
       "(0.059173629368737976, 0.1167914089163995)"
      ]
     },
     "execution_count": 79,
     "metadata": {},
     "output_type": "execute_result"
    }
   ],
   "source": [
    "ef1.gmv"
   ]
  },
  {
   "cell_type": "code",
   "execution_count": 84,
   "metadata": {},
   "outputs": [
    {
     "name": "stdout",
     "output_type": "stream",
     "text": [
      "0.0453516026582678\n"
     ]
    },
    {
     "data": {
      "text/plain": [
       "{'Weights': array([0.48790744, 0.51209256, 0.        ]),\n",
       " 'CAGR': 0.15618599567473535,\n",
       " 'Risk': 0.18251866216076934}"
      ]
     },
     "execution_count": 84,
     "metadata": {},
     "output_type": "execute_result"
    }
   ],
   "source": [
    "ef1.max_return"
   ]
  },
  {
   "cell_type": "code",
   "execution_count": 81,
   "metadata": {},
   "outputs": [
    {
     "data": {
      "text/plain": [
       "{'Weights': array([0.48790744, 0.51209256, 0.        ]),\n",
       " 'CAGR': 0.15618599567473535,\n",
       " 'Risk': 0.18042682163884025}"
      ]
     },
     "execution_count": 81,
     "metadata": {},
     "output_type": "execute_result"
    }
   ],
   "source": [
    "ef1.max_return"
   ]
  },
  {
   "cell_type": "code",
   "execution_count": 86,
   "metadata": {},
   "outputs": [
    {
     "data": {
      "text/plain": [
       "{'SPY.US': 0.4879059478001359,\n",
       " 'GLD.US': 0.5120940521998639,\n",
       " '0165-70287767.RUFUND': 1.0722759485881639e-16,\n",
       " 'CAGR': 0.15618599568253888,\n",
       " 'Risk': 0.18251866485878068}"
      ]
     },
     "execution_count": 86,
     "metadata": {},
     "output_type": "execute_result"
    }
   ],
   "source": [
    "ef1._maximize_return(0.0453516026582678)"
   ]
  },
  {
   "cell_type": "code",
   "execution_count": 87,
   "metadata": {},
   "outputs": [],
   "source": [
    "d = ef1.ef_points"
   ]
  },
  {
   "cell_type": "code",
   "execution_count": 91,
   "metadata": {},
   "outputs": [],
   "source": [
    "у = ef2.ef_points"
   ]
  },
  {
   "cell_type": "code",
   "execution_count": 48,
   "metadata": {},
   "outputs": [
    {
     "data": {
      "text/html": [
       "<div>\n",
       "<style scoped>\n",
       "    .dataframe tbody tr th:only-of-type {\n",
       "        vertical-align: middle;\n",
       "    }\n",
       "\n",
       "    .dataframe tbody tr th {\n",
       "        vertical-align: top;\n",
       "    }\n",
       "\n",
       "    .dataframe thead th {\n",
       "        text-align: right;\n",
       "    }\n",
       "</style>\n",
       "<table border=\"1\" class=\"dataframe\">\n",
       "  <thead>\n",
       "    <tr style=\"text-align: right;\">\n",
       "      <th></th>\n",
       "      <th>0165-70287767.RUFUND</th>\n",
       "      <th>CAGR</th>\n",
       "      <th>GLD.US</th>\n",
       "      <th>Risk</th>\n",
       "      <th>SPY.US</th>\n",
       "    </tr>\n",
       "  </thead>\n",
       "  <tbody>\n",
       "    <tr>\n",
       "      <th>0</th>\n",
       "      <td>0.936328</td>\n",
       "      <td>0.116888</td>\n",
       "      <td>0.020842</td>\n",
       "      <td>0.059149</td>\n",
       "      <td>0.042831</td>\n",
       "    </tr>\n",
       "    <tr>\n",
       "      <th>1</th>\n",
       "      <td>0.790305</td>\n",
       "      <td>0.124679</td>\n",
       "      <td>0.065039</td>\n",
       "      <td>0.064212</td>\n",
       "      <td>0.144656</td>\n",
       "    </tr>\n",
       "    <tr>\n",
       "      <th>2</th>\n",
       "      <td>0.725492</td>\n",
       "      <td>0.127871</td>\n",
       "      <td>0.086576</td>\n",
       "      <td>0.069080</td>\n",
       "      <td>0.187932</td>\n",
       "    </tr>\n",
       "    <tr>\n",
       "      <th>3</th>\n",
       "      <td>0.673280</td>\n",
       "      <td>0.130337</td>\n",
       "      <td>0.104721</td>\n",
       "      <td>0.073934</td>\n",
       "      <td>0.221999</td>\n",
       "    </tr>\n",
       "    <tr>\n",
       "      <th>4</th>\n",
       "      <td>0.627255</td>\n",
       "      <td>0.132439</td>\n",
       "      <td>0.121272</td>\n",
       "      <td>0.078788</td>\n",
       "      <td>0.251473</td>\n",
       "    </tr>\n",
       "  </tbody>\n",
       "</table>\n",
       "</div>"
      ],
      "text/plain": [
       "   0165-70287767.RUFUND      CAGR    GLD.US      Risk    SPY.US\n",
       "0              0.936328  0.116888  0.020842  0.059149  0.042831\n",
       "1              0.790305  0.124679  0.065039  0.064212  0.144656\n",
       "2              0.725492  0.127871  0.086576  0.069080  0.187932\n",
       "3              0.673280  0.130337  0.104721  0.073934  0.221999\n",
       "4              0.627255  0.132439  0.121272  0.078788  0.251473"
      ]
     },
     "execution_count": 48,
     "metadata": {},
     "output_type": "execute_result"
    }
   ],
   "source": [
    "d.head()"
   ]
  },
  {
   "cell_type": "code",
   "execution_count": 92,
   "metadata": {},
   "outputs": [
    {
     "name": "stderr",
     "output_type": "stream",
     "text": [
      "C:\\Users\\Sergey\\OneDrive\\NoteBooks\\okama\\frontier.py:298: MatplotlibDeprecationWarning: Adding an axes using the same arguments as a previous axes currently reuses the earlier instance.  In a future version, a new instance will always be created and returned.  Meanwhile, this warning can be suppressed, and the future behavior ensured, by passing a unique label to each axes instance.\n",
      "  plt.autoscale(enable=True, axis='y', tight=False)\n"
     ]
    },
    {
     "data": {
      "text/plain": [
       "<matplotlib.axes._subplots.AxesSubplot at 0x2924affd310>"
      ]
     },
     "execution_count": 92,
     "metadata": {},
     "output_type": "execute_result"
    },
    {
     "data": {
      "image/png": "[encoded data removed]",
      "text/plain": [
       "<Figure size 864x432 with 1 Axes>"
      ]
     },
     "metadata": {
      "needs_background": "light"
     },
     "output_type": "display_data"
    }
   ],
   "source": [
    "fig = plt.figure(figsize=(12,6))\n",
    "#fig.subplots_adjust(bottom=0.2, top=1.5)\n",
    "ax = plt.axes()\n",
    "ax.plot(d.Risk, d.CAGR)\n",
    "ax.plot(у.Risk, у.CAGR)\n",
    "#ax.plot(df.Risk, df['Return (risk adjusted approx)'])\n",
    "#ax.plot(df.Risk, df.Return)\n",
    "x.plot_assets(type='cagr')"
   ]
  },
  {
   "cell_type": "code",
   "execution_count": 17,
   "metadata": {},
   "outputs": [],
   "source": [
    "df = ef1.ef_points"
   ]
  },
  {
   "cell_type": "code",
   "execution_count": 189,
   "metadata": {},
   "outputs": [
    {
     "data": {
      "text/plain": [
       "(0.015415211788234092, 0.00939359002930298)"
      ]
     },
     "execution_count": 189,
     "metadata": {},
     "output_type": "execute_result"
    }
   ],
   "source": [
    "ef1._get_gmv_monthly()"
   ]
  },
  {
   "cell_type": "code",
   "execution_count": 191,
   "metadata": {},
   "outputs": [
    {
     "data": {
      "text/plain": [
       "(0.059222218042090935, 0.11873315723636457)"
      ]
     },
     "execution_count": 191,
     "metadata": {},
     "output_type": "execute_result"
    }
   ],
   "source": [
    "ef1.gmv"
   ]
  },
  {
   "cell_type": "code",
   "execution_count": 128,
   "metadata": {},
   "outputs": [
    {
     "data": {
      "text/plain": [
       "array([0.04320863, 0.01913376, 0.93765762])"
      ]
     },
     "execution_count": 128,
     "metadata": {},
     "output_type": "execute_result"
    }
   ],
   "source": [
    "ef1.gmv_weights"
   ]
  },
  {
   "cell_type": "code",
   "execution_count": 129,
   "metadata": {},
   "outputs": [
    {
     "data": {
      "text/plain": [
       "{'weights': array([4.95360466e-01, 5.04639534e-01, 3.25814303e-15]),\n",
       " 'cagr': 0.15375844963411578,\n",
       " 'risk': 0.17917691695622873}"
      ]
     },
     "execution_count": 129,
     "metadata": {},
     "output_type": "execute_result"
    }
   ],
   "source": [
    "ef1.max_return"
   ]
  },
  {
   "cell_type": "code",
   "execution_count": 66,
   "metadata": {},
   "outputs": [
    {
     "data": {
      "text/plain": [
       "0.04514052908951162"
      ]
     },
     "execution_count": 66,
     "metadata": {},
     "output_type": "execute_result"
    }
   ],
   "source": [
    "ef1.ror.std().max()"
   ]
  },
  {
   "cell_type": "code",
   "execution_count": 74,
   "metadata": {
    "collapsed": true,
    "jupyter": {
     "outputs_hidden": true
    }
   },
   "outputs": [
    {
     "data": {
      "text/html": [
       "<div>\n",
       "<style scoped>\n",
       "    .dataframe tbody tr th:only-of-type {\n",
       "        vertical-align: middle;\n",
       "    }\n",
       "\n",
       "    .dataframe tbody tr th {\n",
       "        vertical-align: top;\n",
       "    }\n",
       "\n",
       "    .dataframe thead th {\n",
       "        text-align: right;\n",
       "    }\n",
       "</style>\n",
       "<table border=\"1\" class=\"dataframe\">\n",
       "  <thead>\n",
       "    <tr style=\"text-align: right;\">\n",
       "      <th></th>\n",
       "      <th>cagr</th>\n",
       "      <th>risk</th>\n",
       "      <th>weights</th>\n",
       "    </tr>\n",
       "  </thead>\n",
       "  <tbody>\n",
       "    <tr>\n",
       "      <th>0</th>\n",
       "      <td>0.113706</td>\n",
       "      <td>0.060192</td>\n",
       "      <td>[0.058241821952550864, 0.9417581780474492]</td>\n",
       "    </tr>\n",
       "    <tr>\n",
       "      <th>1</th>\n",
       "      <td>0.118799</td>\n",
       "      <td>0.063365</td>\n",
       "      <td>[0.16776862302374437, 0.8322313769762556]</td>\n",
       "    </tr>\n",
       "    <tr>\n",
       "      <th>2</th>\n",
       "      <td>0.120795</td>\n",
       "      <td>0.066394</td>\n",
       "      <td>[0.21499754674619484, 0.7850024532538051]</td>\n",
       "    </tr>\n",
       "    <tr>\n",
       "      <th>3</th>\n",
       "      <td>0.122298</td>\n",
       "      <td>0.069407</td>\n",
       "      <td>[0.2524465229818244, 0.7475534770181755]</td>\n",
       "    </tr>\n",
       "    <tr>\n",
       "      <th>4</th>\n",
       "      <td>0.123551</td>\n",
       "      <td>0.072414</td>\n",
       "      <td>[0.2850108830575181, 0.7149891169424819]</td>\n",
       "    </tr>\n",
       "    <tr>\n",
       "      <th>5</th>\n",
       "      <td>0.124644</td>\n",
       "      <td>0.075419</td>\n",
       "      <td>[0.3145582892492217, 0.6854417107507782]</td>\n",
       "    </tr>\n",
       "    <tr>\n",
       "      <th>6</th>\n",
       "      <td>0.125625</td>\n",
       "      <td>0.078424</td>\n",
       "      <td>[0.34203212279879025, 0.6579678772012097]</td>\n",
       "    </tr>\n",
       "    <tr>\n",
       "      <th>7</th>\n",
       "      <td>0.126521</td>\n",
       "      <td>0.081431</td>\n",
       "      <td>[0.3679845190249295, 0.6320154809750704]</td>\n",
       "    </tr>\n",
       "    <tr>\n",
       "      <th>8</th>\n",
       "      <td>0.127349</td>\n",
       "      <td>0.084439</td>\n",
       "      <td>[0.39276960474200767, 0.6072303952579924]</td>\n",
       "    </tr>\n",
       "    <tr>\n",
       "      <th>9</th>\n",
       "      <td>0.128122</td>\n",
       "      <td>0.087449</td>\n",
       "      <td>[0.41662955737181023, 0.5833704426281897]</td>\n",
       "    </tr>\n",
       "    <tr>\n",
       "      <th>10</th>\n",
       "      <td>0.128849</td>\n",
       "      <td>0.090462</td>\n",
       "      <td>[0.43973794074060696, 0.560262059259393]</td>\n",
       "    </tr>\n",
       "    <tr>\n",
       "      <th>11</th>\n",
       "      <td>0.129535</td>\n",
       "      <td>0.093478</td>\n",
       "      <td>[0.46222375349736516, 0.5377762465026349]</td>\n",
       "    </tr>\n",
       "    <tr>\n",
       "      <th>12</th>\n",
       "      <td>0.130185</td>\n",
       "      <td>0.096497</td>\n",
       "      <td>[0.484185446550274, 0.5158145534497259]</td>\n",
       "    </tr>\n",
       "    <tr>\n",
       "      <th>13</th>\n",
       "      <td>0.130804</td>\n",
       "      <td>0.099519</td>\n",
       "      <td>[0.505700298464394, 0.49429970153560593]</td>\n",
       "    </tr>\n",
       "    <tr>\n",
       "      <th>14</th>\n",
       "      <td>0.131394</td>\n",
       "      <td>0.102545</td>\n",
       "      <td>[0.5268298437696376, 0.4731701562303624]</td>\n",
       "    </tr>\n",
       "    <tr>\n",
       "      <th>15</th>\n",
       "      <td>0.131959</td>\n",
       "      <td>0.105574</td>\n",
       "      <td>[0.5476238796063095, 0.45237612039369046]</td>\n",
       "    </tr>\n",
       "    <tr>\n",
       "      <th>16</th>\n",
       "      <td>0.132499</td>\n",
       "      <td>0.108606</td>\n",
       "      <td>[0.5681235415140768, 0.43187645848592315]</td>\n",
       "    </tr>\n",
       "    <tr>\n",
       "      <th>17</th>\n",
       "      <td>0.133018</td>\n",
       "      <td>0.111642</td>\n",
       "      <td>[0.5883629418650206, 0.41163705813497936]</td>\n",
       "    </tr>\n",
       "    <tr>\n",
       "      <th>18</th>\n",
       "      <td>0.133516</td>\n",
       "      <td>0.114681</td>\n",
       "      <td>[0.6083708001091521, 0.3916291998908479]</td>\n",
       "    </tr>\n",
       "    <tr>\n",
       "      <th>19</th>\n",
       "      <td>0.133995</td>\n",
       "      <td>0.117724</td>\n",
       "      <td>[0.628171496809599, 0.37182850319040095]</td>\n",
       "    </tr>\n",
       "    <tr>\n",
       "      <th>20</th>\n",
       "      <td>0.134456</td>\n",
       "      <td>0.120771</td>\n",
       "      <td>[0.6477859013380235, 0.35221409866197645]</td>\n",
       "    </tr>\n",
       "    <tr>\n",
       "      <th>21</th>\n",
       "      <td>0.134899</td>\n",
       "      <td>0.123821</td>\n",
       "      <td>[0.6672320105741222, 0.3327679894258777]</td>\n",
       "    </tr>\n",
       "    <tr>\n",
       "      <th>22</th>\n",
       "      <td>0.135326</td>\n",
       "      <td>0.126876</td>\n",
       "      <td>[0.686525448383109, 0.3134745516168909]</td>\n",
       "    </tr>\n",
       "    <tr>\n",
       "      <th>23</th>\n",
       "      <td>0.135738</td>\n",
       "      <td>0.129934</td>\n",
       "      <td>[0.7056798609252949, 0.2943201390747051]</td>\n",
       "    </tr>\n",
       "    <tr>\n",
       "      <th>24</th>\n",
       "      <td>0.136135</td>\n",
       "      <td>0.132996</td>\n",
       "      <td>[0.724707232923957, 0.275292767076043]</td>\n",
       "    </tr>\n",
       "    <tr>\n",
       "      <th>25</th>\n",
       "      <td>0.136517</td>\n",
       "      <td>0.136062</td>\n",
       "      <td>[0.7436181431871017, 0.25638185681289827]</td>\n",
       "    </tr>\n",
       "    <tr>\n",
       "      <th>26</th>\n",
       "      <td>0.136885</td>\n",
       "      <td>0.139131</td>\n",
       "      <td>[0.7624219729122915, 0.23757802708770845]</td>\n",
       "    </tr>\n",
       "    <tr>\n",
       "      <th>27</th>\n",
       "      <td>0.137241</td>\n",
       "      <td>0.142205</td>\n",
       "      <td>[0.7811270768869711, 0.2188729231130288]</td>\n",
       "    </tr>\n",
       "    <tr>\n",
       "      <th>28</th>\n",
       "      <td>0.137583</td>\n",
       "      <td>0.145283</td>\n",
       "      <td>[0.7997409252633578, 0.20025907473664215]</td>\n",
       "    </tr>\n",
       "    <tr>\n",
       "      <th>29</th>\n",
       "      <td>0.137913</td>\n",
       "      <td>0.148365</td>\n",
       "      <td>[0.8182702217765427, 0.1817297782234572]</td>\n",
       "    </tr>\n",
       "    <tr>\n",
       "      <th>30</th>\n",
       "      <td>0.138230</td>\n",
       "      <td>0.151451</td>\n",
       "      <td>[0.8367210029565487, 0.1632789970434513]</td>\n",
       "    </tr>\n",
       "    <tr>\n",
       "      <th>31</th>\n",
       "      <td>0.138536</td>\n",
       "      <td>0.154541</td>\n",
       "      <td>[0.8550987218928361, 0.144901278107164]</td>\n",
       "    </tr>\n",
       "    <tr>\n",
       "      <th>32</th>\n",
       "      <td>0.138831</td>\n",
       "      <td>0.157636</td>\n",
       "      <td>[0.8734083193445636, 0.12659168065543636]</td>\n",
       "    </tr>\n",
       "    <tr>\n",
       "      <th>33</th>\n",
       "      <td>0.139114</td>\n",
       "      <td>0.160734</td>\n",
       "      <td>[0.891654284408641, 0.10834571559135905]</td>\n",
       "    </tr>\n",
       "    <tr>\n",
       "      <th>34</th>\n",
       "      <td>0.139386</td>\n",
       "      <td>0.163837</td>\n",
       "      <td>[0.9098407065593694, 0.0901592934406306]</td>\n",
       "    </tr>\n",
       "    <tr>\n",
       "      <th>35</th>\n",
       "      <td>0.139647</td>\n",
       "      <td>0.166945</td>\n",
       "      <td>[0.9279713204693701, 0.07202867953062986]</td>\n",
       "    </tr>\n",
       "    <tr>\n",
       "      <th>36</th>\n",
       "      <td>0.139898</td>\n",
       "      <td>0.170056</td>\n",
       "      <td>[0.946049544761446, 0.05395045523855405]</td>\n",
       "    </tr>\n",
       "    <tr>\n",
       "      <th>37</th>\n",
       "      <td>0.140139</td>\n",
       "      <td>0.173173</td>\n",
       "      <td>[0.964078513428319, 0.03592148657168101]</td>\n",
       "    </tr>\n",
       "    <tr>\n",
       "      <th>38</th>\n",
       "      <td>0.140370</td>\n",
       "      <td>0.176293</td>\n",
       "      <td>[0.9820611135705263, 0.01793888642947374]</td>\n",
       "    </tr>\n",
       "    <tr>\n",
       "      <th>39</th>\n",
       "      <td>0.140591</td>\n",
       "      <td>0.179418</td>\n",
       "      <td>[1.0, 0.0]</td>\n",
       "    </tr>\n",
       "  </tbody>\n",
       "</table>\n",
       "</div>"
      ],
      "text/plain": [
       "        cagr      risk                                     weights\n",
       "0   0.113706  0.060192  [0.058241821952550864, 0.9417581780474492]\n",
       "1   0.118799  0.063365   [0.16776862302374437, 0.8322313769762556]\n",
       "2   0.120795  0.066394   [0.21499754674619484, 0.7850024532538051]\n",
       "3   0.122298  0.069407    [0.2524465229818244, 0.7475534770181755]\n",
       "4   0.123551  0.072414    [0.2850108830575181, 0.7149891169424819]\n",
       "5   0.124644  0.075419    [0.3145582892492217, 0.6854417107507782]\n",
       "6   0.125625  0.078424   [0.34203212279879025, 0.6579678772012097]\n",
       "7   0.126521  0.081431    [0.3679845190249295, 0.6320154809750704]\n",
       "8   0.127349  0.084439   [0.39276960474200767, 0.6072303952579924]\n",
       "9   0.128122  0.087449   [0.41662955737181023, 0.5833704426281897]\n",
       "10  0.128849  0.090462    [0.43973794074060696, 0.560262059259393]\n",
       "11  0.129535  0.093478   [0.46222375349736516, 0.5377762465026349]\n",
       "12  0.130185  0.096497     [0.484185446550274, 0.5158145534497259]\n",
       "13  0.130804  0.099519    [0.505700298464394, 0.49429970153560593]\n",
       "14  0.131394  0.102545    [0.5268298437696376, 0.4731701562303624]\n",
       "15  0.131959  0.105574   [0.5476238796063095, 0.45237612039369046]\n",
       "16  0.132499  0.108606   [0.5681235415140768, 0.43187645848592315]\n",
       "17  0.133018  0.111642   [0.5883629418650206, 0.41163705813497936]\n",
       "18  0.133516  0.114681    [0.6083708001091521, 0.3916291998908479]\n",
       "19  0.133995  0.117724    [0.628171496809599, 0.37182850319040095]\n",
       "20  0.134456  0.120771   [0.6477859013380235, 0.35221409866197645]\n",
       "21  0.134899  0.123821    [0.6672320105741222, 0.3327679894258777]\n",
       "22  0.135326  0.126876     [0.686525448383109, 0.3134745516168909]\n",
       "23  0.135738  0.129934    [0.7056798609252949, 0.2943201390747051]\n",
       "24  0.136135  0.132996      [0.724707232923957, 0.275292767076043]\n",
       "25  0.136517  0.136062   [0.7436181431871017, 0.25638185681289827]\n",
       "26  0.136885  0.139131   [0.7624219729122915, 0.23757802708770845]\n",
       "27  0.137241  0.142205    [0.7811270768869711, 0.2188729231130288]\n",
       "28  0.137583  0.145283   [0.7997409252633578, 0.20025907473664215]\n",
       "29  0.137913  0.148365    [0.8182702217765427, 0.1817297782234572]\n",
       "30  0.138230  0.151451    [0.8367210029565487, 0.1632789970434513]\n",
       "31  0.138536  0.154541     [0.8550987218928361, 0.144901278107164]\n",
       "32  0.138831  0.157636   [0.8734083193445636, 0.12659168065543636]\n",
       "33  0.139114  0.160734    [0.891654284408641, 0.10834571559135905]\n",
       "34  0.139386  0.163837    [0.9098407065593694, 0.0901592934406306]\n",
       "35  0.139647  0.166945   [0.9279713204693701, 0.07202867953062986]\n",
       "36  0.139898  0.170056    [0.946049544761446, 0.05395045523855405]\n",
       "37  0.140139  0.173173    [0.964078513428319, 0.03592148657168101]\n",
       "38  0.140370  0.176293   [0.9820611135705263, 0.01793888642947374]\n",
       "39  0.140591  0.179418                                  [1.0, 0.0]"
      ]
     },
     "execution_count": 74,
     "metadata": {},
     "output_type": "execute_result"
    }
   ],
   "source": [
    "df"
   ]
  },
  {
   "cell_type": "code",
   "execution_count": 152,
   "metadata": {},
   "outputs": [
    {
     "data": {
      "text/plain": [
       "[<matplotlib.lines.Line2D at 0x29b526e6430>]"
      ]
     },
     "execution_count": 152,
     "metadata": {},
     "output_type": "execute_result"
    },
    {
     "data": {
      "image/png": "[encoded data removed]",
      "text/plain": [
       "<Figure size 864x432 with 1 Axes>"
      ]
     },
     "metadata": {
      "needs_background": "light"
     },
     "output_type": "display_data"
    }
   ],
   "source": [
    "fig = plt.figure(figsize=(12,6))\n",
    "#fig.subplots_adjust(bottom=0.2, top=1.5)\n",
    "ax = plt.axes()\n",
    "ax.plot(d.Risk, d.Return)\n",
    "ax.plot(d.Risk, d['Return (risk adjusted approx)'])\n",
    "#eod.plot_assets(assets[list1])"
   ]
  },
  {
   "cell_type": "markdown",
   "metadata": {},
   "source": [
    "### Efficient Frontier"
   ]
  },
  {
   "cell_type": "code",
   "execution_count": 23,
   "metadata": {},
   "outputs": [],
   "source": [
    "ef = EfficientFrontier(symbols=['SPY.US', 'GLD.US', '0890-94127385.RUFUND', '0165-70287767.RUFUND'], first_date='2008-01', full_frontier=False).ef_points"
   ]
  },
  {
   "cell_type": "code",
   "execution_count": 20,
   "metadata": {},
   "outputs": [
    {
     "data": {
      "text/plain": [
       "[<matplotlib.lines.Line2D at 0x1aa412981c0>]"
      ]
     },
     "execution_count": 20,
     "metadata": {},
     "output_type": "execute_result"
    },
    {
     "data": {
      "image/png": "[encoded data removed]",
      "text/plain": [
       "<Figure size 864x432 with 1 Axes>"
      ]
     },
     "metadata": {
      "needs_background": "light"
     },
     "output_type": "display_data"
    }
   ],
   "source": [
    "fig = plt.figure(figsize=(12,6))\n",
    "#fig.subplots_adjust(bottom=0.2, top=1.5)\n",
    "ax = plt.axes()\n",
    "ax.plot(ef.Risk, ef.Return)"
   ]
  },
  {
   "cell_type": "code",
   "execution_count": 11,
   "metadata": {},
   "outputs": [],
   "source": [
    "ef = EfficientFrontier(symbols=['SPY.US', 'GLD.US', 'VNQ.US', 'BND.US']).ef_points"
   ]
  },
  {
   "cell_type": "code",
   "execution_count": 16,
   "metadata": {},
   "outputs": [
    {
     "data": {
      "text/plain": [
       "<matplotlib.axes._subplots.AxesSubplot at 0x1aa40f27460>"
      ]
     },
     "execution_count": 16,
     "metadata": {},
     "output_type": "execute_result"
    },
    {
     "data": {
      "image/png": "[encoded data removed]",
      "text/plain": [
       "<Figure size 432x288 with 1 Axes>"
      ]
     },
     "metadata": {
      "needs_background": "light"
     },
     "output_type": "display_data"
    }
   ],
   "source": [
    "ef.plot(x='Risk', y='Return')"
   ]
  },
  {
   "cell_type": "code",
   "execution_count": null,
   "metadata": {},
   "outputs": [],
   "source": []
  }
 ],
 "metadata": {
  "kernelspec": {
   "display_name": "py38",
   "language": "python",
   "name": "py38"
  },
  "language_info": {
   "codemirror_mode": {
    "name": "ipython",
    "version": 3
   },
   "file_extension": ".py",
   "mimetype": "text/x-python",
   "name": "python",
   "nbconvert_exporter": "python",
   "pygments_lexer": "ipython3",
   "version": "3.8.2"
  }
 },
 "nbformat": 4,
 "nbformat_minor": 4
}
