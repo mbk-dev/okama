{
 "cells": [
  {
   "cell_type": "markdown",
   "metadata": {},
   "source": [
    "<a href=\"https://colab.research.google.com/github/mbk-dev/okama/blob/master/examples/08%20financial%20database.ipynb\"><img align=\"left\" src=\"https://colab.research.google.com/assets/colab-badge.svg\" alt=\"Open in Colab\" title=\"Open and Execute in Google Colaboratory\"></a>"
   ]
  },
  {
   "cell_type": "markdown",
   "metadata": {},
   "source": [
    "You can run the code examples in [Google Colab](https://colab.research.google.com/github/mbk-dev/okama/blob/master/examples/08%20financial%20database.ipynb)."
   ]
  },
  {
   "cell_type": "markdown",
   "metadata": {},
   "source": [
    "**To install the package:**"
   ]
  },
  {
   "cell_type": "code",
   "metadata": {},
   "source": [
    "!pip install okama"
   ],
   "execution_count": null,
   "outputs": []
  },
  {
   "cell_type": "markdown",
   "metadata": {},
   "source": [
    "import okama and matplotlib packages ..."
   ]
  },
  {
   "cell_type": "code",
   "execution_count": 1,
   "metadata": {
    "collapsed": false,
    "jupyter": {
     "outputs_hidden": false
    }
   },
   "outputs": [],
   "source": [
    "import okama as ok"
   ]
  },
  {
   "cell_type": "markdown",
   "metadata": {},
   "source": [
    "Financial Database of *okama* has stock market securities, currencies, commodities and indexes as well as macroeconomic indicators  historical data."
   ]
  },
  {
   "cell_type": "markdown",
   "metadata": {},
   "source": [
    "### Stock markets\n",
    "\n",
    "- Stocks and ETF for main world markets\n",
    "- Mutual funds\n",
    "- Commodities\n",
    "- Stock indexes\n",
    "\n",
    "### Currencies\n",
    "\n",
    "- FX currencies\n",
    "- Crypto currencies\n",
    "- Central bank exchange rates\n",
    "\n",
    "### Macroeconomic indicators\n",
    "\n",
    "- Inflation (USA, United Kingdom, European Union, Israel, Russia etc.)\n",
    "- Central bank rates\n",
    "\n",
    "### Other historical data\n",
    "\n",
    "- Real estate prices\n",
    "- Top bank rates\n"
   ]
  },
  {
   "cell_type": "markdown",
   "metadata": {},
   "source": [
    "___\n"
   ]
  },
  {
   "cell_type": "markdown",
   "metadata": {},
   "source": [
    "## Search the Database\n"
   ]
  },
  {
   "cell_type": "markdown",
   "metadata": {},
   "source": [
    "To search for a ticker or security name use `ok.search` method."
   ]
  },
  {
   "cell_type": "code",
   "execution_count": 2,
   "metadata": {
    "collapsed": false,
    "jupyter": {
     "outputs_hidden": false
    }
   },
   "outputs": [
    {
     "data": {
      "text/html": [
       "<div>\n",
       "<style scoped>\n",
       "    .dataframe tbody tr th:only-of-type {\n",
       "        vertical-align: middle;\n",
       "    }\n",
       "\n",
       "    .dataframe tbody tr th {\n",
       "        vertical-align: top;\n",
       "    }\n",
       "\n",
       "    .dataframe thead th {\n",
       "        text-align: right;\n",
       "    }\n",
       "</style>\n",
       "<table border=\"1\" class=\"dataframe\">\n",
       "  <thead>\n",
       "    <tr style=\"text-align: right;\">\n",
       "      <th></th>\n",
       "      <th>symbol</th>\n",
       "      <th>ticker</th>\n",
       "      <th>name</th>\n",
       "      <th>country</th>\n",
       "      <th>exchange</th>\n",
       "      <th>currency</th>\n",
       "      <th>type</th>\n",
       "      <th>isin</th>\n",
       "    </tr>\n",
       "  </thead>\n",
       "  <tbody>\n",
       "    <tr>\n",
       "      <th>0</th>\n",
       "      <td>3LTS.LSE</td>\n",
       "      <td>3LTS</td>\n",
       "      <td>GraniteShares 3x Long Tesla Daily ETP</td>\n",
       "      <td>UK</td>\n",
       "      <td>LSE</td>\n",
       "      <td>USD</td>\n",
       "      <td>ETF</td>\n",
       "      <td></td>\n",
       "    </tr>\n",
       "    <tr>\n",
       "      <th>1</th>\n",
       "      <td>mTSLA-USD.CC</td>\n",
       "      <td>mTSLA-USD</td>\n",
       "      <td>Mirrored Tesla</td>\n",
       "      <td>Unknown</td>\n",
       "      <td>CC</td>\n",
       "      <td>USD</td>\n",
       "      <td>Currency</td>\n",
       "      <td></td>\n",
       "    </tr>\n",
       "    <tr>\n",
       "      <th>2</th>\n",
       "      <td>TES-USD.CC</td>\n",
       "      <td>TES-USD</td>\n",
       "      <td>TeslaCoin</td>\n",
       "      <td>Unknown</td>\n",
       "      <td>CC</td>\n",
       "      <td>USD</td>\n",
       "      <td>Currency</td>\n",
       "      <td></td>\n",
       "    </tr>\n",
       "    <tr>\n",
       "      <th>3</th>\n",
       "      <td>TSLA-USD.CC</td>\n",
       "      <td>TSLA-USD</td>\n",
       "      <td>Tesla</td>\n",
       "      <td>Unknown</td>\n",
       "      <td>CC</td>\n",
       "      <td>USD</td>\n",
       "      <td>Currency</td>\n",
       "      <td></td>\n",
       "    </tr>\n",
       "    <tr>\n",
       "      <th>4</th>\n",
       "      <td>TL0.XFRA</td>\n",
       "      <td>TL0</td>\n",
       "      <td>Tesla Inc</td>\n",
       "      <td>Germany</td>\n",
       "      <td>XFRA</td>\n",
       "      <td>EUR</td>\n",
       "      <td>Common Stock</td>\n",
       "      <td>US88160R1014</td>\n",
       "    </tr>\n",
       "    <tr>\n",
       "      <th>5</th>\n",
       "      <td>TSLA.US</td>\n",
       "      <td>TSLA</td>\n",
       "      <td>Tesla Inc</td>\n",
       "      <td>USA</td>\n",
       "      <td>NASDAQ</td>\n",
       "      <td>USD</td>\n",
       "      <td>Common Stock</td>\n",
       "      <td>US88160R1014</td>\n",
       "    </tr>\n",
       "    <tr>\n",
       "      <th>6</th>\n",
       "      <td>TXLZF.US</td>\n",
       "      <td>TXLZF</td>\n",
       "      <td>Tesla Exploration Ltd</td>\n",
       "      <td>USA</td>\n",
       "      <td>PINK</td>\n",
       "      <td>USD</td>\n",
       "      <td>Common Stock</td>\n",
       "      <td></td>\n",
       "    </tr>\n",
       "  </tbody>\n",
       "</table>\n",
       "</div>"
      ],
      "text/plain": [
       "         symbol     ticker                                   name  country  \\\n",
       "0      3LTS.LSE       3LTS  GraniteShares 3x Long Tesla Daily ETP       UK   \n",
       "1  mTSLA-USD.CC  mTSLA-USD                         Mirrored Tesla  Unknown   \n",
       "2    TES-USD.CC    TES-USD                              TeslaCoin  Unknown   \n",
       "3   TSLA-USD.CC   TSLA-USD                                  Tesla  Unknown   \n",
       "4      TL0.XFRA        TL0                              Tesla Inc  Germany   \n",
       "5       TSLA.US       TSLA                              Tesla Inc      USA   \n",
       "6      TXLZF.US      TXLZF                  Tesla Exploration Ltd      USA   \n",
       "\n",
       "  exchange currency          type          isin  \n",
       "0      LSE      USD           ETF                \n",
       "1       CC      USD      Currency                \n",
       "2       CC      USD      Currency                \n",
       "3       CC      USD      Currency                \n",
       "4     XFRA      EUR  Common Stock  US88160R1014  \n",
       "5   NASDAQ      USD  Common Stock  US88160R1014  \n",
       "6     PINK      USD  Common Stock                "
      ]
     },
     "execution_count": 2,
     "metadata": {},
     "output_type": "execute_result"
    }
   ],
   "source": [
    "ok.search(\"tesla\")  # it's not case-sensitive"
   ]
  },
  {
   "cell_type": "markdown",
   "metadata": {},
   "source": [
    "It is possible to search for ISIN with the same method.\n"
   ]
  },
  {
   "cell_type": "code",
   "execution_count": 3,
   "metadata": {
    "collapsed": false,
    "jupyter": {
     "outputs_hidden": false
    }
   },
   "outputs": [
    {
     "data": {
      "text/html": [
       "<div>\n",
       "<style scoped>\n",
       "    .dataframe tbody tr th:only-of-type {\n",
       "        vertical-align: middle;\n",
       "    }\n",
       "\n",
       "    .dataframe tbody tr th {\n",
       "        vertical-align: top;\n",
       "    }\n",
       "\n",
       "    .dataframe thead th {\n",
       "        text-align: right;\n",
       "    }\n",
       "</style>\n",
       "<table border=\"1\" class=\"dataframe\">\n",
       "  <thead>\n",
       "    <tr style=\"text-align: right;\">\n",
       "      <th></th>\n",
       "      <th>symbol</th>\n",
       "      <th>ticker</th>\n",
       "      <th>name</th>\n",
       "      <th>country</th>\n",
       "      <th>exchange</th>\n",
       "      <th>currency</th>\n",
       "      <th>type</th>\n",
       "      <th>isin</th>\n",
       "    </tr>\n",
       "  </thead>\n",
       "  <tbody>\n",
       "    <tr>\n",
       "      <th>0</th>\n",
       "      <td>SPY.US</td>\n",
       "      <td>SPY</td>\n",
       "      <td>SPDR S&amp;P 500 ETF Trust</td>\n",
       "      <td>USA</td>\n",
       "      <td>NYSE ARCA</td>\n",
       "      <td>USD</td>\n",
       "      <td>ETF</td>\n",
       "      <td>US78462F1030</td>\n",
       "    </tr>\n",
       "  </tbody>\n",
       "</table>\n",
       "</div>"
      ],
      "text/plain": [
       "   symbol ticker                    name country   exchange currency type  \\\n",
       "0  SPY.US    SPY  SPDR S&P 500 ETF Trust     USA  NYSE ARCA      USD  ETF   \n",
       "\n",
       "           isin  \n",
       "0  US78462F1030  "
      ]
     },
     "execution_count": 3,
     "metadata": {},
     "output_type": "execute_result"
    }
   ],
   "source": [
    "ok.search(\"US78462F103\")"
   ]
  },
  {
   "cell_type": "markdown",
   "metadata": {},
   "source": [
    "## Namespaces: Financial Database sections\n"
   ]
  },
  {
   "cell_type": "markdown",
   "metadata": {},
   "source": [
    "Namespase is a set of characters after the period in the ticker (SPY**.US**)."
   ]
  },
  {
   "cell_type": "markdown",
   "metadata": {},
   "source": [
    "Namespaces are based on MIC (Market Identifier Codes) and okama own code systems for macro parameters."
   ]
  },
  {
   "cell_type": "code",
   "execution_count": 4,
   "metadata": {
    "collapsed": false,
    "jupyter": {
     "outputs_hidden": false
    }
   },
   "outputs": [
    {
     "data": {
      "text/plain": [
       "{'CBR': 'Central Banks official currency exchange rates',\n",
       " 'CC': 'Cryptocurrency pairs with USD',\n",
       " 'COMM': 'Commodities prices',\n",
       " 'FX': 'FOREX currency market',\n",
       " 'INDX': 'Indexes',\n",
       " 'INFL': 'Inflation',\n",
       " 'LSE': 'London Stock Exchange',\n",
       " 'MOEX': 'Moscow Exchange',\n",
       " 'PIF': 'Russian mutual funds',\n",
       " 'RATE': 'Bank deposit rates',\n",
       " 'RE': 'Real estate prices',\n",
       " 'US': 'US Stock Exchanges and mutual funds',\n",
       " 'XAMS': 'Euronext Amsterdam',\n",
       " 'XETR': 'XETRA Exchange',\n",
       " 'XFRA': 'Frankfurt Stock Exchange',\n",
       " 'XSTU': 'Stuttgart Exchange',\n",
       " 'XTAE': 'Tel Aviv Stock Exchange (TASE)'}"
      ]
     },
     "execution_count": 4,
     "metadata": {},
     "output_type": "execute_result"
    }
   ],
   "source": [
    "# available namespaces\n",
    "ok.namespaces"
   ]
  },
  {
   "cell_type": "markdown",
   "metadata": {},
   "source": [
    "It is possible to request all symbols in a sertain namespace with `ok.symbols_in_namespace`:"
   ]
  },
  {
   "cell_type": "code",
   "execution_count": 2,
   "metadata": {
    "collapsed": false,
    "jupyter": {
     "outputs_hidden": false
    }
   },
   "outputs": [
    {
     "data": {
      "text/plain": "            symbol   ticker                                  name  country  \\\n0      000906.INDX   000906                  China Securities 800  Unknown   \n1        0O7N.INDX     0O7N                Scale All Share GR EUR  Germany   \n2        3LHE.INDX     3LHE             ESTX 50 Corporate Bond TR   Greece   \n3     5SP2550.INDX  5SP2550    S&P 500 Retailing (Industry Group)      USA   \n4      990100.INDX   990100  MSCI International World Index Price  Unknown   \n...            ...      ...                                   ...      ...   \n1509    XU100.INDX    XU100                              BIST 100   Turkey   \n1510    XUSIN.INDX    XUSIN                      BIST Industrials   Turkey   \n1511    XUSRD.INDX    XUSRD                   BIST Sustainability   Turkey   \n1512    XUTEK.INDX    XUTEK                       BIST Technology   Turkey   \n1513     YMU0.INDX     YMU0          E-mini Dow $5 Future Sept 20      USA   \n\n     exchange currency     type isin  \n0        INDX      USD    INDEX       \n1        INDX      EUR    INDEX       \n2        INDX      EUR    INDEX       \n3        INDX      USD    INDEX       \n4        INDX      USD    INDEX       \n...       ...      ...      ...  ...  \n1509     INDX      TRY    INDEX       \n1510     INDX      TRY    INDEX       \n1511    INDEX      TRY    INDEX       \n1512    INDEX      TRY    INDEX       \n1513     INDX      USD  Futures       \n\n[1514 rows x 8 columns]",
      "text/html": "<div>\n<style scoped>\n    .dataframe tbody tr th:only-of-type {\n        vertical-align: middle;\n    }\n\n    .dataframe tbody tr th {\n        vertical-align: top;\n    }\n\n    .dataframe thead th {\n        text-align: right;\n    }\n</style>\n<table border=\"1\" class=\"dataframe\">\n  <thead>\n    <tr style=\"text-align: right;\">\n      <th></th>\n      <th>symbol</th>\n      <th>ticker</th>\n      <th>name</th>\n      <th>country</th>\n      <th>exchange</th>\n      <th>currency</th>\n      <th>type</th>\n      <th>isin</th>\n    </tr>\n  </thead>\n  <tbody>\n    <tr>\n      <th>0</th>\n      <td>000906.INDX</td>\n      <td>000906</td>\n      <td>China Securities 800</td>\n      <td>Unknown</td>\n      <td>INDX</td>\n      <td>USD</td>\n      <td>INDEX</td>\n      <td></td>\n    </tr>\n    <tr>\n      <th>1</th>\n      <td>0O7N.INDX</td>\n      <td>0O7N</td>\n      <td>Scale All Share GR EUR</td>\n      <td>Germany</td>\n      <td>INDX</td>\n      <td>EUR</td>\n      <td>INDEX</td>\n      <td></td>\n    </tr>\n    <tr>\n      <th>2</th>\n      <td>3LHE.INDX</td>\n      <td>3LHE</td>\n      <td>ESTX 50 Corporate Bond TR</td>\n      <td>Greece</td>\n      <td>INDX</td>\n      <td>EUR</td>\n      <td>INDEX</td>\n      <td></td>\n    </tr>\n    <tr>\n      <th>3</th>\n      <td>5SP2550.INDX</td>\n      <td>5SP2550</td>\n      <td>S&amp;P 500 Retailing (Industry Group)</td>\n      <td>USA</td>\n      <td>INDX</td>\n      <td>USD</td>\n      <td>INDEX</td>\n      <td></td>\n    </tr>\n    <tr>\n      <th>4</th>\n      <td>990100.INDX</td>\n      <td>990100</td>\n      <td>MSCI International World Index Price</td>\n      <td>Unknown</td>\n      <td>INDX</td>\n      <td>USD</td>\n      <td>INDEX</td>\n      <td></td>\n    </tr>\n    <tr>\n      <th>...</th>\n      <td>...</td>\n      <td>...</td>\n      <td>...</td>\n      <td>...</td>\n      <td>...</td>\n      <td>...</td>\n      <td>...</td>\n      <td>...</td>\n    </tr>\n    <tr>\n      <th>1509</th>\n      <td>XU100.INDX</td>\n      <td>XU100</td>\n      <td>BIST 100</td>\n      <td>Turkey</td>\n      <td>INDX</td>\n      <td>TRY</td>\n      <td>INDEX</td>\n      <td></td>\n    </tr>\n    <tr>\n      <th>1510</th>\n      <td>XUSIN.INDX</td>\n      <td>XUSIN</td>\n      <td>BIST Industrials</td>\n      <td>Turkey</td>\n      <td>INDX</td>\n      <td>TRY</td>\n      <td>INDEX</td>\n      <td></td>\n    </tr>\n    <tr>\n      <th>1511</th>\n      <td>XUSRD.INDX</td>\n      <td>XUSRD</td>\n      <td>BIST Sustainability</td>\n      <td>Turkey</td>\n      <td>INDEX</td>\n      <td>TRY</td>\n      <td>INDEX</td>\n      <td></td>\n    </tr>\n    <tr>\n      <th>1512</th>\n      <td>XUTEK.INDX</td>\n      <td>XUTEK</td>\n      <td>BIST Technology</td>\n      <td>Turkey</td>\n      <td>INDEX</td>\n      <td>TRY</td>\n      <td>INDEX</td>\n      <td></td>\n    </tr>\n    <tr>\n      <th>1513</th>\n      <td>YMU0.INDX</td>\n      <td>YMU0</td>\n      <td>E-mini Dow $5 Future Sept 20</td>\n      <td>USA</td>\n      <td>INDX</td>\n      <td>USD</td>\n      <td>Futures</td>\n      <td></td>\n    </tr>\n  </tbody>\n</table>\n<p>1514 rows × 8 columns</p>\n</div>"
     },
     "execution_count": 2,
     "metadata": {},
     "output_type": "execute_result"
    }
   ],
   "source": [
    "# available symbols in namespace\n",
    "ok.symbols_in_namespace(\"INDX\")  # all stock indexes"
   ]
  },
  {
   "cell_type": "markdown",
   "metadata": {},
   "source": [
    "## Advanced search\n"
   ]
  },
  {
   "cell_type": "markdown",
   "metadata": {},
   "source": [
    "To limit the search use `namespace` argument:\n"
   ]
  },
  {
   "cell_type": "code",
   "execution_count": 6,
   "metadata": {
    "collapsed": false,
    "jupyter": {
     "outputs_hidden": false
    }
   },
   "outputs": [
    {
     "data": {
      "text/html": [
       "<div>\n",
       "<style scoped>\n",
       "    .dataframe tbody tr th:only-of-type {\n",
       "        vertical-align: middle;\n",
       "    }\n",
       "\n",
       "    .dataframe tbody tr th {\n",
       "        vertical-align: top;\n",
       "    }\n",
       "\n",
       "    .dataframe thead th {\n",
       "        text-align: right;\n",
       "    }\n",
       "</style>\n",
       "<table border=\"1\" class=\"dataframe\">\n",
       "  <thead>\n",
       "    <tr style=\"text-align: right;\">\n",
       "      <th></th>\n",
       "      <th>symbol</th>\n",
       "      <th>ticker</th>\n",
       "      <th>name</th>\n",
       "      <th>country</th>\n",
       "      <th>exchange</th>\n",
       "      <th>currency</th>\n",
       "      <th>type</th>\n",
       "      <th>isin</th>\n",
       "    </tr>\n",
       "  </thead>\n",
       "  <tbody>\n",
       "    <tr>\n",
       "      <th>25</th>\n",
       "      <td>0A4J.LSE</td>\n",
       "      <td>0A4J</td>\n",
       "      <td>AstraZeneca PLC ADR</td>\n",
       "      <td>UK</td>\n",
       "      <td>LSE</td>\n",
       "      <td>USD</td>\n",
       "      <td>Common Stock</td>\n",
       "      <td></td>\n",
       "    </tr>\n",
       "    <tr>\n",
       "      <th>2641</th>\n",
       "      <td>AZN.LSE</td>\n",
       "      <td>AZN</td>\n",
       "      <td>AstraZeneca PLC</td>\n",
       "      <td>UK</td>\n",
       "      <td>LSE</td>\n",
       "      <td>GBX</td>\n",
       "      <td>Common Stock</td>\n",
       "      <td></td>\n",
       "    </tr>\n",
       "  </tbody>\n",
       "</table>\n",
       "</div>"
      ],
      "text/plain": [
       "        symbol ticker                 name country exchange currency  \\\n",
       "25    0A4J.LSE   0A4J  AstraZeneca PLC ADR      UK      LSE      USD   \n",
       "2641   AZN.LSE    AZN      AstraZeneca PLC      UK      LSE      GBX   \n",
       "\n",
       "              type isin  \n",
       "25    Common Stock       \n",
       "2641  Common Stock       "
      ]
     },
     "execution_count": 6,
     "metadata": {},
     "output_type": "execute_result"
    }
   ],
   "source": [
    "ok.search(\"AstraZeneca\", namespace=\"LSE\")"
   ]
  },
  {
   "cell_type": "markdown",
   "metadata": {},
   "source": [
    "The default response format is DataFrame but it's possible to have it in json with `response_format`."
   ]
  },
  {
   "cell_type": "code",
   "execution_count": 7,
   "metadata": {
    "collapsed": false,
    "jupyter": {
     "outputs_hidden": false
    }
   },
   "outputs": [
    {
     "data": {
      "text/plain": [
       "'[{\"symbol\":\"PFE.US\",\"ticker\":\"PFE\",\"name\":\"Pfizer Inc\",\"country\":\"USA\",\"exchange\":\"NYSE\",\"currency\":\"USD\",\"type\":\"Common Stock\",\"isin\":\"US7170811035\"}]'"
      ]
     },
     "execution_count": 7,
     "metadata": {},
     "output_type": "execute_result"
    }
   ],
   "source": [
    "ok.search(\"Pfizer\", namespace=\"US\", response_format=\"json\")"
   ]
  },
  {
   "cell_type": "markdown",
   "metadata": {},
   "source": [
    "DataFrame obtained with `symbols_in_namespace` can be used for more complex queries.\n",
    "For instance, if it's necessary find only a certain type of securities. Let's get a list of ETF in Frankfurt Stock Exchange."
   ]
  },
  {
   "cell_type": "code",
   "execution_count": 8,
   "metadata": {
    "collapsed": false,
    "jupyter": {
     "outputs_hidden": false
    }
   },
   "outputs": [
    {
     "data": {
      "text/html": [
       "<div>\n",
       "<style scoped>\n",
       "    .dataframe tbody tr th:only-of-type {\n",
       "        vertical-align: middle;\n",
       "    }\n",
       "\n",
       "    .dataframe tbody tr th {\n",
       "        vertical-align: top;\n",
       "    }\n",
       "\n",
       "    .dataframe thead th {\n",
       "        text-align: right;\n",
       "    }\n",
       "</style>\n",
       "<table border=\"1\" class=\"dataframe\">\n",
       "  <thead>\n",
       "    <tr style=\"text-align: right;\">\n",
       "      <th></th>\n",
       "      <th>symbol</th>\n",
       "      <th>ticker</th>\n",
       "      <th>name</th>\n",
       "      <th>country</th>\n",
       "      <th>exchange</th>\n",
       "      <th>currency</th>\n",
       "      <th>type</th>\n",
       "      <th>isin</th>\n",
       "    </tr>\n",
       "  </thead>\n",
       "  <tbody>\n",
       "    <tr>\n",
       "      <th>0</th>\n",
       "      <td>00XJ.XFRA</td>\n",
       "      <td>00XJ</td>\n",
       "      <td>ETFS EUR Dly Hdgd Agri DJ-UBS AD ETC</td>\n",
       "      <td>Germany</td>\n",
       "      <td>XFRA</td>\n",
       "      <td>EUR</td>\n",
       "      <td>ETF</td>\n",
       "      <td>DE000A1NZLJ4</td>\n",
       "    </tr>\n",
       "    <tr>\n",
       "      <th>1</th>\n",
       "      <td>00XK.XFRA</td>\n",
       "      <td>00XK</td>\n",
       "      <td>ETFS EUR Dly Hdgd All Cmdt DJ-UBS AD ETC</td>\n",
       "      <td>Germany</td>\n",
       "      <td>XFRA</td>\n",
       "      <td>EUR</td>\n",
       "      <td>ETF</td>\n",
       "      <td>DE000A1NZLK2</td>\n",
       "    </tr>\n",
       "    <tr>\n",
       "      <th>2</th>\n",
       "      <td>00XQ.XFRA</td>\n",
       "      <td>00XQ</td>\n",
       "      <td>ETFS EUR Dly Hdgd Prec Mtl DJ-UBS AD ETC</td>\n",
       "      <td>Germany</td>\n",
       "      <td>XFRA</td>\n",
       "      <td>EUR</td>\n",
       "      <td>ETF</td>\n",
       "      <td>DE000A1NZLQ9</td>\n",
       "    </tr>\n",
       "    <tr>\n",
       "      <th>135</th>\n",
       "      <td>0P00018O55.XFRA</td>\n",
       "      <td>0P00018O55</td>\n",
       "      <td>iShares Euro Government Inflation-Linked Bond ...</td>\n",
       "      <td>Germany</td>\n",
       "      <td>XFRA</td>\n",
       "      <td>EUR</td>\n",
       "      <td>ETF</td>\n",
       "      <td>IE00B4WXT741</td>\n",
       "    </tr>\n",
       "    <tr>\n",
       "      <th>139</th>\n",
       "      <td>0P0001HHBA.XFRA</td>\n",
       "      <td>0P0001HHBA</td>\n",
       "      <td>iShares ESG Screened Euro Corporate Bond Index...</td>\n",
       "      <td>Germany</td>\n",
       "      <td>XFRA</td>\n",
       "      <td>EUR</td>\n",
       "      <td>ETF</td>\n",
       "      <td>IE00BJP12Y80</td>\n",
       "    </tr>\n",
       "    <tr>\n",
       "      <th>...</th>\n",
       "      <td>...</td>\n",
       "      <td>...</td>\n",
       "      <td>...</td>\n",
       "      <td>...</td>\n",
       "      <td>...</td>\n",
       "      <td>...</td>\n",
       "      <td>...</td>\n",
       "      <td>...</td>\n",
       "    </tr>\n",
       "    <tr>\n",
       "      <th>9171</th>\n",
       "      <td>ZPRU.XFRA</td>\n",
       "      <td>ZPRU</td>\n",
       "      <td>SSgA SPDR ETFs Europe II Public Limited Compan...</td>\n",
       "      <td>Germany</td>\n",
       "      <td>XFRA</td>\n",
       "      <td>EUR</td>\n",
       "      <td>ETF</td>\n",
       "      <td>IE00BSPLC520</td>\n",
       "    </tr>\n",
       "    <tr>\n",
       "      <th>9172</th>\n",
       "      <td>ZPRV.XFRA</td>\n",
       "      <td>ZPRV</td>\n",
       "      <td>SSgA SPDR ETFs Europe II Public Limited Compan...</td>\n",
       "      <td>Germany</td>\n",
       "      <td>XFRA</td>\n",
       "      <td>EUR</td>\n",
       "      <td>ETF</td>\n",
       "      <td>IE00BSPLC413</td>\n",
       "    </tr>\n",
       "    <tr>\n",
       "      <th>9173</th>\n",
       "      <td>ZPRW.XFRA</td>\n",
       "      <td>ZPRW</td>\n",
       "      <td>SSgA SPDR ETFs Europe II Public Limited Compan...</td>\n",
       "      <td>Germany</td>\n",
       "      <td>XFRA</td>\n",
       "      <td>EUR</td>\n",
       "      <td>ETF</td>\n",
       "      <td>IE00BSPLC306</td>\n",
       "    </tr>\n",
       "    <tr>\n",
       "      <th>9174</th>\n",
       "      <td>ZPRX.XFRA</td>\n",
       "      <td>ZPRX</td>\n",
       "      <td>SSgA SPDR ETFs Europe II Public Limited Compan...</td>\n",
       "      <td>Germany</td>\n",
       "      <td>XFRA</td>\n",
       "      <td>EUR</td>\n",
       "      <td>ETF</td>\n",
       "      <td>IE00BSPLC298</td>\n",
       "    </tr>\n",
       "    <tr>\n",
       "      <th>9181</th>\n",
       "      <td>ZSRI.XFRA</td>\n",
       "      <td>ZSRI</td>\n",
       "      <td>BNP Paribas Easy - MSCI Europe SRI S-Series 5%...</td>\n",
       "      <td>Germany</td>\n",
       "      <td>XFRA</td>\n",
       "      <td>EUR</td>\n",
       "      <td>ETF</td>\n",
       "      <td>LU1753045415</td>\n",
       "    </tr>\n",
       "  </tbody>\n",
       "</table>\n",
       "<p>1408 rows × 8 columns</p>\n",
       "</div>"
      ],
      "text/plain": [
       "               symbol      ticker  \\\n",
       "0           00XJ.XFRA        00XJ   \n",
       "1           00XK.XFRA        00XK   \n",
       "2           00XQ.XFRA        00XQ   \n",
       "135   0P00018O55.XFRA  0P00018O55   \n",
       "139   0P0001HHBA.XFRA  0P0001HHBA   \n",
       "...               ...         ...   \n",
       "9171        ZPRU.XFRA        ZPRU   \n",
       "9172        ZPRV.XFRA        ZPRV   \n",
       "9173        ZPRW.XFRA        ZPRW   \n",
       "9174        ZPRX.XFRA        ZPRX   \n",
       "9181        ZSRI.XFRA        ZSRI   \n",
       "\n",
       "                                                   name  country exchange  \\\n",
       "0                  ETFS EUR Dly Hdgd Agri DJ-UBS AD ETC  Germany     XFRA   \n",
       "1              ETFS EUR Dly Hdgd All Cmdt DJ-UBS AD ETC  Germany     XFRA   \n",
       "2              ETFS EUR Dly Hdgd Prec Mtl DJ-UBS AD ETC  Germany     XFRA   \n",
       "135   iShares Euro Government Inflation-Linked Bond ...  Germany     XFRA   \n",
       "139   iShares ESG Screened Euro Corporate Bond Index...  Germany     XFRA   \n",
       "...                                                 ...      ...      ...   \n",
       "9171  SSgA SPDR ETFs Europe II Public Limited Compan...  Germany     XFRA   \n",
       "9172  SSgA SPDR ETFs Europe II Public Limited Compan...  Germany     XFRA   \n",
       "9173  SSgA SPDR ETFs Europe II Public Limited Compan...  Germany     XFRA   \n",
       "9174  SSgA SPDR ETFs Europe II Public Limited Compan...  Germany     XFRA   \n",
       "9181  BNP Paribas Easy - MSCI Europe SRI S-Series 5%...  Germany     XFRA   \n",
       "\n",
       "     currency type          isin  \n",
       "0         EUR  ETF  DE000A1NZLJ4  \n",
       "1         EUR  ETF  DE000A1NZLK2  \n",
       "2         EUR  ETF  DE000A1NZLQ9  \n",
       "135       EUR  ETF  IE00B4WXT741  \n",
       "139       EUR  ETF  IE00BJP12Y80  \n",
       "...       ...  ...           ...  \n",
       "9171      EUR  ETF  IE00BSPLC520  \n",
       "9172      EUR  ETF  IE00BSPLC413  \n",
       "9173      EUR  ETF  IE00BSPLC306  \n",
       "9174      EUR  ETF  IE00BSPLC298  \n",
       "9181      EUR  ETF  LU1753045415  \n",
       "\n",
       "[1408 rows x 8 columns]"
      ]
     },
     "execution_count": 8,
     "metadata": {},
     "output_type": "execute_result"
    }
   ],
   "source": [
    "sb = ok.symbols_in_namespace(\"XFRA\")\n",
    "sb[sb[\"type\"] == \"ETF\"]"
   ]
  }
 ],
 "metadata": {
  "kernelspec": {
   "name": "okama3.11dev",
   "language": "python",
   "display_name": "okama3.11dev"
  },
  "language_info": {
   "codemirror_mode": {
    "name": "ipython",
    "version": 3
   },
   "file_extension": ".py",
   "mimetype": "text/x-python",
   "name": "python",
   "nbconvert_exporter": "python",
   "pygments_lexer": "ipython3",
   "version": "3.9.1"
  }
 },
 "nbformat": 4,
 "nbformat_minor": 4
}
