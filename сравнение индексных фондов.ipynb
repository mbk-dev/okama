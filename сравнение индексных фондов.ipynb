{
 "cells": [
  {
   "cell_type": "code",
   "execution_count": 2,
   "metadata": {},
   "outputs": [],
   "source": [
    "import numpy as np\n",
    "import pandas as pd\n",
    "import matplotlib. pyplot as plt\n",
    "from okama.assets import Asset, AssetList, Portfolio\n",
    "from okama.data import get_eod_data\n",
    "from okama.helpers import Frame\n",
    "\n",
    "pd.options.display.float_format = '{:,.4f}'.format\n",
    "\n",
    "%load_ext autoreload\n",
    "%autoreload 2"
   ]
  },
  {
   "cell_type": "markdown",
   "metadata": {},
   "source": [
    "SBSP.MCX\n",
    "VTBA.MCX\n",
    "AKSP.MCX"
   ]
  },
  {
   "cell_type": "code",
   "execution_count": null,
   "metadata": {},
   "outputs": [],
   "source": []
  },
  {
   "cell_type": "code",
   "execution_count": 33,
   "metadata": {},
   "outputs": [],
   "source": [
    "def index_funds_eval(asset_list: list, first_date=None, last_date=None, curr='USD') -> pd.DataFrame: \n",
    "    \"\"\"\n",
    "    приведенная к году версия отклонения (tracking difference)\n",
    "    \"\"\"\n",
    "    ror = AssetList(symbols=asset_list, first_date=first_date, last_date=last_date, curr=curr).ror\n",
    "    m = ror.shape[0]\n",
    "    print(f'количество месяцев: {m}')\n",
    "    ret = (ror + 1.).prod() - 1.\n",
    "    \n",
    "    def tracking_difference(ret: pd.Series, nm: str) -> float:\n",
    "        return ret[nm] - ret[0]\n",
    "    \n",
    "    def tracking_difference_annualized(ret: pd.Series, nm: str, m: float) -> float:\n",
    "        x = tracking_difference(ret, nm)\n",
    "        try:\n",
    "            y = abs(x)\n",
    "        except:\n",
    "            y = np.nan\n",
    "        diff = np.sign(x)*((y + 1)**(12 / m) - 1)\n",
    "        return diff\n",
    "    \n",
    "    def tracking_error(ror: pd.DataFrame, nm: str, m: float) -> float:\n",
    "        x = (((ror[nm] - ror.iloc[:,0]) ** 2).sum() / (m-1)) ** (1/2)\n",
    "        x_annualized = x * np.sqrt(12)\n",
    "        return x_annualized\n",
    "        \n",
    "    df = pd.DataFrame()\n",
    "    for i, ticker in enumerate(asset_list):\n",
    "        if i > 0:\n",
    "            nav = Asset(ticker).nav_ts\n",
    "            if nav is not np.nan:\n",
    "                nav = nav[-1]\n",
    "            diff = tracking_difference(ret, ticker)\n",
    "            diff_a = tracking_difference_annualized(ret, ticker, m)\n",
    "            error = tracking_error(ror, ticker, m)\n",
    "            row = {\n",
    "                'Тикер': ticker,\n",
    "                'Название': Asset(ticker).name,\n",
    "                'Отклонение': diff * 100,\n",
    "                'Отклонение среднегодовое': diff_a *100,\n",
    "                'Ошибка следования': error * 100,\n",
    "                'СЧА': nav / 1_000_000\n",
    "                }\n",
    "            df = df.append(row, ignore_index=True)\n",
    "    return df"
   ]
  },
  {
   "cell_type": "markdown",
   "metadata": {},
   "source": [
    "### Фонды, следующие S&P 500"
   ]
  },
  {
   "cell_type": "code",
   "execution_count": 46,
   "metadata": {},
   "outputs": [],
   "source": [
    "ls1 = ['SP500TR.INDX', 'SPY.US','SBSP.MCX', 'VTBA.MCX', 'AKSP.MCX', 'FXUS.MCX']"
   ]
  },
  {
   "cell_type": "code",
   "execution_count": 124,
   "metadata": {},
   "outputs": [
    {
     "name": "stdout",
     "output_type": "stream",
     "text": [
      "Total time taken is 0.29 min.\n",
      "количество месяцев: 9\n"
     ]
    }
   ],
   "source": [
    "df1 = index_funds_eval(asset_list=ls1, last_date='2020-03', curr='USD')"
   ]
  },
  {
   "cell_type": "code",
   "execution_count": 125,
   "metadata": {},
   "outputs": [
    {
     "data": {
      "text/html": [
       "<div>\n",
       "<style scoped>\n",
       "    .dataframe tbody tr th:only-of-type {\n",
       "        vertical-align: middle;\n",
       "    }\n",
       "\n",
       "    .dataframe tbody tr th {\n",
       "        vertical-align: top;\n",
       "    }\n",
       "\n",
       "    .dataframe thead th {\n",
       "        text-align: right;\n",
       "    }\n",
       "</style>\n",
       "<table border=\"1\" class=\"dataframe\">\n",
       "  <thead>\n",
       "    <tr style=\"text-align: right;\">\n",
       "      <th></th>\n",
       "      <th>Название</th>\n",
       "      <th>Отклонение</th>\n",
       "      <th>Отклонение среднегодовое</th>\n",
       "      <th>Ошибка следования</th>\n",
       "      <th>СЧА</th>\n",
       "      <th>Тикер</th>\n",
       "    </tr>\n",
       "  </thead>\n",
       "  <tbody>\n",
       "    <tr>\n",
       "      <th>0</th>\n",
       "      <td>SPDR S&amp;P 500 ETF Trust</td>\n",
       "      <td>0.1482</td>\n",
       "      <td>0.1977</td>\n",
       "      <td>0.4774</td>\n",
       "      <td>nan</td>\n",
       "      <td>SPY.US</td>\n",
       "    </tr>\n",
       "    <tr>\n",
       "      <th>1</th>\n",
       "      <td>SBSP</td>\n",
       "      <td>0.4339</td>\n",
       "      <td>0.5790</td>\n",
       "      <td>4.7386</td>\n",
       "      <td>nan</td>\n",
       "      <td>SBSP.MCX</td>\n",
       "    </tr>\n",
       "    <tr>\n",
       "      <th>2</th>\n",
       "      <td>VTBA</td>\n",
       "      <td>-0.1758</td>\n",
       "      <td>-0.2344</td>\n",
       "      <td>3.5036</td>\n",
       "      <td>nan</td>\n",
       "      <td>VTBA.MCX</td>\n",
       "    </tr>\n",
       "    <tr>\n",
       "      <th>3</th>\n",
       "      <td>AKSP</td>\n",
       "      <td>0.6384</td>\n",
       "      <td>0.8521</td>\n",
       "      <td>4.2018</td>\n",
       "      <td>nan</td>\n",
       "      <td>AKSP.MCX</td>\n",
       "    </tr>\n",
       "    <tr>\n",
       "      <th>4</th>\n",
       "      <td>FinEx Funds Public Limited Company - FinEx MSC...</td>\n",
       "      <td>0.7943</td>\n",
       "      <td>1.0605</td>\n",
       "      <td>4.3959</td>\n",
       "      <td>nan</td>\n",
       "      <td>FXUS.MCX</td>\n",
       "    </tr>\n",
       "  </tbody>\n",
       "</table>\n",
       "</div>"
      ],
      "text/plain": [
       "                                            Название  Отклонение  \\\n",
       "0                             SPDR S&P 500 ETF Trust      0.1482   \n",
       "1                                               SBSP      0.4339   \n",
       "2                                               VTBA     -0.1758   \n",
       "3                                               AKSP      0.6384   \n",
       "4  FinEx Funds Public Limited Company - FinEx MSC...      0.7943   \n",
       "\n",
       "   Отклонение среднегодовое  Ошибка следования  СЧА     Тикер  \n",
       "0                    0.1977             0.4774  nan    SPY.US  \n",
       "1                    0.5790             4.7386  nan  SBSP.MCX  \n",
       "2                   -0.2344             3.5036  nan  VTBA.MCX  \n",
       "3                    0.8521             4.2018  nan  AKSP.MCX  \n",
       "4                    1.0605             4.3959  nan  FXUS.MCX  "
      ]
     },
     "execution_count": 125,
     "metadata": {},
     "output_type": "execute_result"
    }
   ],
   "source": [
    "df1"
   ]
  },
  {
   "cell_type": "code",
   "execution_count": 49,
   "metadata": {},
   "outputs": [
    {
     "name": "stdout",
     "output_type": "stream",
     "text": [
      "количество месяцев: 9\n",
      "Total time taken is 0.73 min.\n",
      "Total time taken is 0.02 min.\n",
      "Total time taken is 0.02 min.\n",
      "Total time taken is 0.02 min.\n",
      "Total time taken is 0.02 min.\n"
     ]
    }
   ],
   "source": [
    "df1 = index_funds_eval(asset_list=ls1, first_date='2019-07', last_date='2020-03', curr='USD')"
   ]
  },
  {
   "cell_type": "code",
   "execution_count": 50,
   "metadata": {},
   "outputs": [
    {
     "data": {
      "text/html": [
       "<div>\n",
       "<style scoped>\n",
       "    .dataframe tbody tr th:only-of-type {\n",
       "        vertical-align: middle;\n",
       "    }\n",
       "\n",
       "    .dataframe tbody tr th {\n",
       "        vertical-align: top;\n",
       "    }\n",
       "\n",
       "    .dataframe thead th {\n",
       "        text-align: right;\n",
       "    }\n",
       "</style>\n",
       "<table border=\"1\" class=\"dataframe\">\n",
       "  <thead>\n",
       "    <tr style=\"text-align: right;\">\n",
       "      <th></th>\n",
       "      <th>Название</th>\n",
       "      <th>Отклонение</th>\n",
       "      <th>Отклонение среднегодовое</th>\n",
       "      <th>Ошибка следования</th>\n",
       "      <th>СЧА</th>\n",
       "      <th>Тикер</th>\n",
       "    </tr>\n",
       "  </thead>\n",
       "  <tbody>\n",
       "    <tr>\n",
       "      <th>0</th>\n",
       "      <td>SPDR S&amp;P 500 ETF Trust</td>\n",
       "      <td>0.1482</td>\n",
       "      <td>0.1977</td>\n",
       "      <td>0.4774</td>\n",
       "      <td>nan</td>\n",
       "      <td>SPY.US</td>\n",
       "    </tr>\n",
       "    <tr>\n",
       "      <th>1</th>\n",
       "      <td>SBSP</td>\n",
       "      <td>0.4339</td>\n",
       "      <td>0.5790</td>\n",
       "      <td>4.7386</td>\n",
       "      <td>nan</td>\n",
       "      <td>SBSP.MCX</td>\n",
       "    </tr>\n",
       "    <tr>\n",
       "      <th>2</th>\n",
       "      <td>VTBA</td>\n",
       "      <td>-0.1758</td>\n",
       "      <td>-0.2344</td>\n",
       "      <td>3.5036</td>\n",
       "      <td>nan</td>\n",
       "      <td>VTBA.MCX</td>\n",
       "    </tr>\n",
       "    <tr>\n",
       "      <th>3</th>\n",
       "      <td>AKSP</td>\n",
       "      <td>0.6384</td>\n",
       "      <td>0.8521</td>\n",
       "      <td>4.2018</td>\n",
       "      <td>nan</td>\n",
       "      <td>AKSP.MCX</td>\n",
       "    </tr>\n",
       "    <tr>\n",
       "      <th>4</th>\n",
       "      <td>FinEx Funds Public Limited Company - FinEx MSC...</td>\n",
       "      <td>0.7943</td>\n",
       "      <td>1.0605</td>\n",
       "      <td>4.3959</td>\n",
       "      <td>nan</td>\n",
       "      <td>FXUS.MCX</td>\n",
       "    </tr>\n",
       "  </tbody>\n",
       "</table>\n",
       "</div>"
      ],
      "text/plain": [
       "                                            Название  Отклонение  \\\n",
       "0                             SPDR S&P 500 ETF Trust      0.1482   \n",
       "1                                               SBSP      0.4339   \n",
       "2                                               VTBA     -0.1758   \n",
       "3                                               AKSP      0.6384   \n",
       "4  FinEx Funds Public Limited Company - FinEx MSC...      0.7943   \n",
       "\n",
       "   Отклонение среднегодовое  Ошибка следования  СЧА     Тикер  \n",
       "0                    0.1977             0.4774  nan    SPY.US  \n",
       "1                    0.5790             4.7386  nan  SBSP.MCX  \n",
       "2                   -0.2344             3.5036  nan  VTBA.MCX  \n",
       "3                    0.8521             4.2018  nan  AKSP.MCX  \n",
       "4                    1.0605             4.3959  nan  FXUS.MCX  "
      ]
     },
     "execution_count": 50,
     "metadata": {},
     "output_type": "execute_result"
    }
   ],
   "source": [
    "df1"
   ]
  },
  {
   "cell_type": "code",
   "execution_count": 36,
   "metadata": {},
   "outputs": [],
   "source": [
    "df1.to_csv('sp500_error.csv', sep=',')"
   ]
  },
  {
   "cell_type": "markdown",
   "metadata": {},
   "source": [
    "### Фонды, следующие индексу Мосбиржи"
   ]
  },
  {
   "cell_type": "code",
   "execution_count": 51,
   "metadata": {},
   "outputs": [],
   "source": [
    "ls2 = ['MCFTR.INDX',\n",
    "      '0295-74549871.RUFUND',\n",
    "      '0662-94119196.RUFUND',\n",
    "      '0695-94121916.RUFUND',\n",
    "      '0278-58233720.RUFUND',\n",
    "      '0177-71671092.RUFUND',\n",
    "      '1149-94139555.RUFUND',\n",
    "      '0890-94127385.RUFUND',\n",
    "      '0983-94131725.RUFUND',\n",
    "      '0351-76578546.RUFUND',\n",
    "      'FXRL.MCX',\n",
    "      'RUSE.MCX',\n",
    "      'SBMX.MCX',\n",
    "      '3555.RUFUND'\n",
    "     ]"
   ]
  },
  {
   "cell_type": "code",
   "execution_count": 121,
   "metadata": {},
   "outputs": [
    {
     "name": "stdout",
     "output_type": "stream",
     "text": [
      "Total time taken is 0.86 min.\n"
     ]
    }
   ],
   "source": [
    "x = AssetList(ls2)"
   ]
  },
  {
   "cell_type": "code",
   "execution_count": 120,
   "metadata": {},
   "outputs": [
    {
     "name": "stdout",
     "output_type": "stream",
     "text": [
      "Total time taken is 1.15 min.\n"
     ]
    }
   ],
   "source": [
    "x = AssetList(ls2)"
   ]
  },
  {
   "cell_type": "code",
   "execution_count": 122,
   "metadata": {},
   "outputs": [
    {
     "data": {
      "text/plain": [
       "Timestamp('2018-10-01 00:00:00')"
      ]
     },
     "execution_count": 122,
     "metadata": {},
     "output_type": "execute_result"
    }
   ],
   "source": [
    "x.first_date"
   ]
  },
  {
   "cell_type": "code",
   "execution_count": 115,
   "metadata": {},
   "outputs": [
    {
     "data": {
      "text/plain": [
       "Timestamp('2018-09-01 00:00:00')"
      ]
     },
     "execution_count": 115,
     "metadata": {},
     "output_type": "execute_result"
    }
   ],
   "source": [
    "x.first_date"
   ]
  },
  {
   "cell_type": "code",
   "execution_count": 123,
   "metadata": {},
   "outputs": [
    {
     "name": "stdout",
     "output_type": "stream",
     "text": [
      "Total time taken is 0.32 min.\n",
      "количество месяцев: 18\n",
      "Total time taken is 0.02 min.\n",
      "Total time taken is 0.02 min.\n",
      "Total time taken is 0.02 min.\n",
      "Total time taken is 0.02 min.\n",
      "Total time taken is 0.02 min.\n",
      "Total time taken is 0.02 min.\n",
      "Total time taken is 0.02 min.\n",
      "Total time taken is 0.02 min.\n",
      "Total time taken is 0.02 min.\n",
      "Total time taken is 0.02 min.\n",
      "Total time taken is 0.02 min.\n",
      "Total time taken is 0.02 min.\n",
      "Total time taken is 0.02 min.\n"
     ]
    },
    {
     "data": {
      "text/html": [
       "<div>\n",
       "<style scoped>\n",
       "    .dataframe tbody tr th:only-of-type {\n",
       "        vertical-align: middle;\n",
       "    }\n",
       "\n",
       "    .dataframe tbody tr th {\n",
       "        vertical-align: top;\n",
       "    }\n",
       "\n",
       "    .dataframe thead th {\n",
       "        text-align: right;\n",
       "    }\n",
       "</style>\n",
       "<table border=\"1\" class=\"dataframe\">\n",
       "  <thead>\n",
       "    <tr style=\"text-align: right;\">\n",
       "      <th></th>\n",
       "      <th>Название</th>\n",
       "      <th>Отклонение</th>\n",
       "      <th>Отклонение среднегодовое</th>\n",
       "      <th>Ошибка следования</th>\n",
       "      <th>СЧА</th>\n",
       "      <th>Тикер</th>\n",
       "    </tr>\n",
       "  </thead>\n",
       "  <tbody>\n",
       "    <tr>\n",
       "      <th>0</th>\n",
       "      <td>AK BARS Indeksnyy (AK BARS KAPITAL)</td>\n",
       "      <td>-6.5236</td>\n",
       "      <td>-4.3031</td>\n",
       "      <td>4.0927</td>\n",
       "      <td>18.6247</td>\n",
       "      <td>0295-74549871.RUFUND</td>\n",
       "    </tr>\n",
       "    <tr>\n",
       "      <th>1</th>\n",
       "      <td>Alltek - Birzhevoy indeks aktsiy (Alltek)</td>\n",
       "      <td>-9.9490</td>\n",
       "      <td>-6.5273</td>\n",
       "      <td>5.6951</td>\n",
       "      <td>5.3188</td>\n",
       "      <td>0662-94119196.RUFUND</td>\n",
       "    </tr>\n",
       "    <tr>\n",
       "      <th>2</th>\n",
       "      <td>Alʹfa–Kapital Indeks MosBirzhi (Alʹfa-Kapital)</td>\n",
       "      <td>-5.0937</td>\n",
       "      <td>-3.3676</td>\n",
       "      <td>3.0552</td>\n",
       "      <td>977.5804</td>\n",
       "      <td>0695-94121916.RUFUND</td>\n",
       "    </tr>\n",
       "    <tr>\n",
       "      <th>3</th>\n",
       "      <td>BKS Rossiyskiye Aktsii (Brokerkredit·servis)</td>\n",
       "      <td>-4.8327</td>\n",
       "      <td>-3.1964</td>\n",
       "      <td>2.8624</td>\n",
       "      <td>527.8617</td>\n",
       "      <td>0278-58233720.RUFUND</td>\n",
       "    </tr>\n",
       "    <tr>\n",
       "      <th>4</th>\n",
       "      <td>VTB - Indeks MosBirzhi (VTB Kapital Upravleniy...</td>\n",
       "      <td>-2.5563</td>\n",
       "      <td>-1.6971</td>\n",
       "      <td>3.0918</td>\n",
       "      <td>1,502.9931</td>\n",
       "      <td>0177-71671092.RUFUND</td>\n",
       "    </tr>\n",
       "    <tr>\n",
       "      <th>5</th>\n",
       "      <td>Ingosstrakh Indeks MosBirzhi (Ingosstrakh - In...</td>\n",
       "      <td>-7.9877</td>\n",
       "      <td>-5.2566</td>\n",
       "      <td>4.6720</td>\n",
       "      <td>43.1805</td>\n",
       "      <td>1149-94139555.RUFUND</td>\n",
       "    </tr>\n",
       "    <tr>\n",
       "      <th>6</th>\n",
       "      <td>Otkrytiye – Indeks MosBirzhi (OTKRYTIYe)</td>\n",
       "      <td>-3.2810</td>\n",
       "      <td>-2.1755</td>\n",
       "      <td>2.7756</td>\n",
       "      <td>495.2428</td>\n",
       "      <td>0890-94127385.RUFUND</td>\n",
       "    </tr>\n",
       "    <tr>\n",
       "      <th>7</th>\n",
       "      <td>Rayffayzen – Indeks MMVB golubykh fishek (Rayf...</td>\n",
       "      <td>-3.8857</td>\n",
       "      <td>-2.5740</td>\n",
       "      <td>2.8883</td>\n",
       "      <td>1,867.4334</td>\n",
       "      <td>0983-94131725.RUFUND</td>\n",
       "    </tr>\n",
       "    <tr>\n",
       "      <th>8</th>\n",
       "      <td>Solid - Indeks MosBirzhi (SOLID Menedzhment)</td>\n",
       "      <td>-2.3377</td>\n",
       "      <td>-1.5525</td>\n",
       "      <td>5.2965</td>\n",
       "      <td>75.6402</td>\n",
       "      <td>0351-76578546.RUFUND</td>\n",
       "    </tr>\n",
       "    <tr>\n",
       "      <th>9</th>\n",
       "      <td>FinEx Russian RTS Equity UCITS ETF (USD)</td>\n",
       "      <td>-1.7195</td>\n",
       "      <td>-1.1431</td>\n",
       "      <td>1.2810</td>\n",
       "      <td>nan</td>\n",
       "      <td>FXRL.MCX</td>\n",
       "    </tr>\n",
       "    <tr>\n",
       "      <th>10</th>\n",
       "      <td>RUSE</td>\n",
       "      <td>-8.4216</td>\n",
       "      <td>-5.5384</td>\n",
       "      <td>6.1420</td>\n",
       "      <td>nan</td>\n",
       "      <td>RUSE.MCX</td>\n",
       "    </tr>\n",
       "    <tr>\n",
       "      <th>11</th>\n",
       "      <td>SBMX</td>\n",
       "      <td>-1.6565</td>\n",
       "      <td>-1.1013</td>\n",
       "      <td>1.5786</td>\n",
       "      <td>nan</td>\n",
       "      <td>SBMX.MCX</td>\n",
       "    </tr>\n",
       "    <tr>\n",
       "      <th>12</th>\n",
       "      <td>Sberbank - Indeks MosBirzhi polnoy dokhodnosti...</td>\n",
       "      <td>-3.3439</td>\n",
       "      <td>-2.2170</td>\n",
       "      <td>3.0913</td>\n",
       "      <td>4,591.3098</td>\n",
       "      <td>3555.RUFUND</td>\n",
       "    </tr>\n",
       "  </tbody>\n",
       "</table>\n",
       "</div>"
      ],
      "text/plain": [
       "                                             Название  Отклонение  \\\n",
       "0                 AK BARS Indeksnyy (AK BARS KAPITAL)     -6.5236   \n",
       "1           Alltek - Birzhevoy indeks aktsiy (Alltek)     -9.9490   \n",
       "2      Alʹfa–Kapital Indeks MosBirzhi (Alʹfa-Kapital)     -5.0937   \n",
       "3        BKS Rossiyskiye Aktsii (Brokerkredit·servis)     -4.8327   \n",
       "4   VTB - Indeks MosBirzhi (VTB Kapital Upravleniy...     -2.5563   \n",
       "5   Ingosstrakh Indeks MosBirzhi (Ingosstrakh - In...     -7.9877   \n",
       "6            Otkrytiye – Indeks MosBirzhi (OTKRYTIYe)     -3.2810   \n",
       "7   Rayffayzen – Indeks MMVB golubykh fishek (Rayf...     -3.8857   \n",
       "8        Solid - Indeks MosBirzhi (SOLID Menedzhment)     -2.3377   \n",
       "9            FinEx Russian RTS Equity UCITS ETF (USD)     -1.7195   \n",
       "10                                               RUSE     -8.4216   \n",
       "11                                               SBMX     -1.6565   \n",
       "12  Sberbank - Indeks MosBirzhi polnoy dokhodnosti...     -3.3439   \n",
       "\n",
       "    Отклонение среднегодовое  Ошибка следования        СЧА  \\\n",
       "0                    -4.3031             4.0927    18.6247   \n",
       "1                    -6.5273             5.6951     5.3188   \n",
       "2                    -3.3676             3.0552   977.5804   \n",
       "3                    -3.1964             2.8624   527.8617   \n",
       "4                    -1.6971             3.0918 1,502.9931   \n",
       "5                    -5.2566             4.6720    43.1805   \n",
       "6                    -2.1755             2.7756   495.2428   \n",
       "7                    -2.5740             2.8883 1,867.4334   \n",
       "8                    -1.5525             5.2965    75.6402   \n",
       "9                    -1.1431             1.2810        nan   \n",
       "10                   -5.5384             6.1420        nan   \n",
       "11                   -1.1013             1.5786        nan   \n",
       "12                   -2.2170             3.0913 4,591.3098   \n",
       "\n",
       "                   Тикер  \n",
       "0   0295-74549871.RUFUND  \n",
       "1   0662-94119196.RUFUND  \n",
       "2   0695-94121916.RUFUND  \n",
       "3   0278-58233720.RUFUND  \n",
       "4   0177-71671092.RUFUND  \n",
       "5   1149-94139555.RUFUND  \n",
       "6   0890-94127385.RUFUND  \n",
       "7   0983-94131725.RUFUND  \n",
       "8   0351-76578546.RUFUND  \n",
       "9               FXRL.MCX  \n",
       "10              RUSE.MCX  \n",
       "11              SBMX.MCX  \n",
       "12           3555.RUFUND  "
      ]
     },
     "execution_count": 123,
     "metadata": {},
     "output_type": "execute_result"
    }
   ],
   "source": [
    "index_funds_eval(asset_list=ls2, first_date='2018-10', last_date='2020-03', curr='RUB')"
   ]
  },
  {
   "cell_type": "code",
   "execution_count": null,
   "metadata": {},
   "outputs": [],
   "source": []
  },
  {
   "cell_type": "code",
   "execution_count": 39,
   "metadata": {},
   "outputs": [],
   "source": [
    "ls2 = ['MCFTR.INDX',\n",
    "      'SBMX.MCX',\n",
    "      '3555.RUFUND'\n",
    "     ]"
   ]
  },
  {
   "cell_type": "code",
   "execution_count": 41,
   "metadata": {},
   "outputs": [
    {
     "data": {
      "text/plain": [
       "Date\n",
       "2016-03-03   1,537.0000\n",
       "2016-03-04   1,566.0000\n",
       "2016-03-07   1,593.0000\n",
       "2016-03-09   1,579.5000\n",
       "2016-03-10   1,571.0000\n",
       "                ...    \n",
       "2020-04-06   2,661.5000\n",
       "2020-04-07   2,670.5000\n",
       "2020-04-08   2,688.0000\n",
       "2020-04-09   2,740.0000\n",
       "2020-04-10   2,729.5000\n",
       "Freq: D, Name: FXRL.MCX, Length: 1036, dtype: float64"
      ]
     },
     "execution_count": 41,
     "metadata": {},
     "output_type": "execute_result"
    }
   ],
   "source": [
    "get_eod_data('FXRL.MCX', type='close')"
   ]
  },
  {
   "cell_type": "code",
   "execution_count": 113,
   "metadata": {},
   "outputs": [],
   "source": [
    "z = get_eod_data('BND.US', type='return')"
   ]
  },
  {
   "cell_type": "code",
   "execution_count": 114,
   "metadata": {},
   "outputs": [
    {
     "data": {
      "text/plain": [
       "Date\n",
       "2007-04-11   -0.0027\n",
       "2007-04-12   -0.0001\n",
       "2007-04-13   -0.0016\n",
       "2007-04-16    0.0009\n",
       "2007-04-17    0.0025\n",
       "2007-04-18    0.0019\n",
       "2007-04-19   -0.0004\n",
       "2007-04-20   -0.0003\n",
       "2007-04-23    0.0013\n",
       "2007-04-24    0.0016\n",
       "2007-04-25   -0.0008\n",
       "2007-04-26   -0.0021\n",
       "2007-04-27   -0.0002\n",
       "2007-04-30    0.0033\n",
       "2007-05-01   -0.0006\n",
       "2007-05-02    0.0001\n",
       "2007-05-03   -0.0007\n",
       "2007-05-04    0.0008\n",
       "2007-05-07    0.0007\n",
       "2007-05-08    0.0001\n",
       "Freq: D, Name: BND.US, dtype: float64"
      ]
     },
     "execution_count": 114,
     "metadata": {},
     "output_type": "execute_result"
    }
   ],
   "source": [
    "z.head(20)"
   ]
  },
  {
   "cell_type": "code",
   "execution_count": 74,
   "metadata": {},
   "outputs": [
    {
     "data": {
      "text/plain": [
       "Period('1993-01-29', 'D')"
      ]
     },
     "execution_count": 74,
     "metadata": {},
     "output_type": "execute_result"
    }
   ],
   "source": [
    "z.index[0]"
   ]
  },
  {
   "cell_type": "code",
   "execution_count": 99,
   "metadata": {},
   "outputs": [
    {
     "ename": "AttributeError",
     "evalue": "'Series' object has no attribute 'ror'",
     "output_type": "error",
     "traceback": [
      "\u001b[1;31m---------------------------------------------------------------------------\u001b[0m",
      "\u001b[1;31mAttributeError\u001b[0m                            Traceback (most recent call last)",
      "\u001b[1;32m<ipython-input-99-c4ae7bcafce9>\u001b[0m in \u001b[0;36m<module>\u001b[1;34m\u001b[0m\n\u001b[1;32m----> 1\u001b[1;33m \u001b[0mz\u001b[0m\u001b[1;33m.\u001b[0m\u001b[0mror\u001b[0m\u001b[1;33m.\u001b[0m\u001b[0mindex\u001b[0m\u001b[1;33m[\u001b[0m\u001b[1;36m0\u001b[0m\u001b[1;33m]\u001b[0m\u001b[1;33m.\u001b[0m\u001b[0mto_timestamp\u001b[0m\u001b[1;33m(\u001b[0m\u001b[1;33m)\u001b[0m\u001b[1;33m\u001b[0m\u001b[1;33m\u001b[0m\u001b[0m\n\u001b[0m",
      "\u001b[1;32m~\\Anaconda3\\envs\\py38\\lib\\site-packages\\pandas\\core\\generic.py\u001b[0m in \u001b[0;36m__getattr__\u001b[1;34m(self, name)\u001b[0m\n\u001b[0;32m   5272\u001b[0m             \u001b[1;32mif\u001b[0m \u001b[0mself\u001b[0m\u001b[1;33m.\u001b[0m\u001b[0m_info_axis\u001b[0m\u001b[1;33m.\u001b[0m\u001b[0m_can_hold_identifiers_and_holds_name\u001b[0m\u001b[1;33m(\u001b[0m\u001b[0mname\u001b[0m\u001b[1;33m)\u001b[0m\u001b[1;33m:\u001b[0m\u001b[1;33m\u001b[0m\u001b[1;33m\u001b[0m\u001b[0m\n\u001b[0;32m   5273\u001b[0m                 \u001b[1;32mreturn\u001b[0m \u001b[0mself\u001b[0m\u001b[1;33m[\u001b[0m\u001b[0mname\u001b[0m\u001b[1;33m]\u001b[0m\u001b[1;33m\u001b[0m\u001b[1;33m\u001b[0m\u001b[0m\n\u001b[1;32m-> 5274\u001b[1;33m             \u001b[1;32mreturn\u001b[0m \u001b[0mobject\u001b[0m\u001b[1;33m.\u001b[0m\u001b[0m__getattribute__\u001b[0m\u001b[1;33m(\u001b[0m\u001b[0mself\u001b[0m\u001b[1;33m,\u001b[0m \u001b[0mname\u001b[0m\u001b[1;33m)\u001b[0m\u001b[1;33m\u001b[0m\u001b[1;33m\u001b[0m\u001b[0m\n\u001b[0m\u001b[0;32m   5275\u001b[0m \u001b[1;33m\u001b[0m\u001b[0m\n\u001b[0;32m   5276\u001b[0m     \u001b[1;32mdef\u001b[0m \u001b[0m__setattr__\u001b[0m\u001b[1;33m(\u001b[0m\u001b[0mself\u001b[0m\u001b[1;33m,\u001b[0m \u001b[0mname\u001b[0m\u001b[1;33m:\u001b[0m \u001b[0mstr\u001b[0m\u001b[1;33m,\u001b[0m \u001b[0mvalue\u001b[0m\u001b[1;33m)\u001b[0m \u001b[1;33m->\u001b[0m \u001b[1;32mNone\u001b[0m\u001b[1;33m:\u001b[0m\u001b[1;33m\u001b[0m\u001b[1;33m\u001b[0m\u001b[0m\n",
      "\u001b[1;31mAttributeError\u001b[0m: 'Series' object has no attribute 'ror'"
     ]
    }
   ],
   "source": [
    "z.ror.index[0].to_timestamp()"
   ]
  },
  {
   "cell_type": "code",
   "execution_count": 78,
   "metadata": {},
   "outputs": [
    {
     "data": {
      "text/plain": [
       "1"
      ]
     },
     "execution_count": 78,
     "metadata": {},
     "output_type": "execute_result"
    }
   ],
   "source": [
    "m = z.index[0].month\n",
    "m"
   ]
  },
  {
   "cell_type": "code",
   "execution_count": 84,
   "metadata": {},
   "outputs": [
    {
     "data": {
      "text/plain": [
       "'1994'"
      ]
     },
     "execution_count": 84,
     "metadata": {},
     "output_type": "execute_result"
    }
   ],
   "source": [
    "y = z.index[0].year\n",
    "str(y+1)"
   ]
  },
  {
   "cell_type": "code",
   "execution_count": 103,
   "metadata": {},
   "outputs": [],
   "source": [
    "first = str(y)+'-'+str(m)"
   ]
  },
  {
   "cell_type": "code",
   "execution_count": 104,
   "metadata": {},
   "outputs": [
    {
     "data": {
      "text/plain": [
       "2"
      ]
     },
     "execution_count": 104,
     "metadata": {},
     "output_type": "execute_result"
    }
   ],
   "source": [
    "z[first].count()"
   ]
  },
  {
   "cell_type": "markdown",
   "metadata": {},
   "source": [
    "### Разработка функций"
   ]
  },
  {
   "cell_type": "markdown",
   "metadata": {},
   "source": [
    "### 1 год"
   ]
  },
  {
   "cell_type": "code",
   "execution_count": 2,
   "metadata": {},
   "outputs": [],
   "source": [
    "x1 = AssetList(['SP500TR.INDX', 'SPY.US','SBSP.MCX'])"
   ]
  },
  {
   "cell_type": "code",
   "execution_count": 45,
   "metadata": {},
   "outputs": [
    {
     "data": {
      "text/plain": [
       "Timestamp('2019-04-01 00:00:00')"
      ]
     },
     "execution_count": 45,
     "metadata": {},
     "output_type": "execute_result"
    }
   ],
   "source": [
    "x1.first_date"
   ]
  },
  {
   "cell_type": "code",
   "execution_count": 52,
   "metadata": {},
   "outputs": [],
   "source": [
    "diff1 = (x1.ror[:'2020-03'] + 1.).prod() - 1."
   ]
  },
  {
   "cell_type": "code",
   "execution_count": 53,
   "metadata": {},
   "outputs": [
    {
     "data": {
      "text/plain": [
       "SP500TR.INDX   -0.0698\n",
       "SPY.US         -0.0689\n",
       "SBSP.MCX       -0.0764\n",
       "dtype: float64"
      ]
     },
     "execution_count": 53,
     "metadata": {},
     "output_type": "execute_result"
    }
   ],
   "source": [
    "diff1"
   ]
  },
  {
   "cell_type": "code",
   "execution_count": 55,
   "metadata": {},
   "outputs": [
    {
     "data": {
      "text/plain": [
       "0.0008728897083893905"
      ]
     },
     "execution_count": 55,
     "metadata": {},
     "output_type": "execute_result"
    }
   ],
   "source": [
    "diff1['SPY.US'] - diff1['SP500TR.INDX']"
   ]
  },
  {
   "cell_type": "code",
   "execution_count": 57,
   "metadata": {},
   "outputs": [
    {
     "data": {
      "text/plain": [
       "-0.6647852412279942"
      ]
     },
     "execution_count": 57,
     "metadata": {},
     "output_type": "execute_result"
    }
   ],
   "source": [
    "(diff1['SBSP.MCX'] - diff1['SP500TR.INDX']) * 100"
   ]
  },
  {
   "cell_type": "code",
   "execution_count": 54,
   "metadata": {},
   "outputs": [
    {
     "data": {
      "text/html": [
       "<div>\n",
       "<style scoped>\n",
       "    .dataframe tbody tr th:only-of-type {\n",
       "        vertical-align: middle;\n",
       "    }\n",
       "\n",
       "    .dataframe tbody tr th {\n",
       "        vertical-align: top;\n",
       "    }\n",
       "\n",
       "    .dataframe thead th {\n",
       "        text-align: right;\n",
       "    }\n",
       "</style>\n",
       "<table border=\"1\" class=\"dataframe\">\n",
       "  <thead>\n",
       "    <tr style=\"text-align: right;\">\n",
       "      <th></th>\n",
       "      <th>SP500TR.INDX</th>\n",
       "      <th>SPY.US</th>\n",
       "      <th>SBSP.MCX</th>\n",
       "    </tr>\n",
       "    <tr>\n",
       "      <th>Date</th>\n",
       "      <th></th>\n",
       "      <th></th>\n",
       "      <th></th>\n",
       "    </tr>\n",
       "  </thead>\n",
       "  <tbody>\n",
       "    <tr>\n",
       "      <th>2019-04</th>\n",
       "      <td>1,000.0000</td>\n",
       "      <td>1,000.0000</td>\n",
       "      <td>1,000.0000</td>\n",
       "    </tr>\n",
       "    <tr>\n",
       "      <th>2019-05</th>\n",
       "      <td>974.3683</td>\n",
       "      <td>974.4759</td>\n",
       "      <td>975.4826</td>\n",
       "    </tr>\n",
       "    <tr>\n",
       "      <th>2019-06</th>\n",
       "      <td>1,043.0385</td>\n",
       "      <td>1,042.2852</td>\n",
       "      <td>1,030.5699</td>\n",
       "    </tr>\n",
       "    <tr>\n",
       "      <th>2019-07</th>\n",
       "      <td>1,058.0302</td>\n",
       "      <td>1,058.0439</td>\n",
       "      <td>1,061.8433</td>\n",
       "    </tr>\n",
       "    <tr>\n",
       "      <th>2019-08</th>\n",
       "      <td>1,041.2696</td>\n",
       "      <td>1,040.3287</td>\n",
       "      <td>1,031.9364</td>\n",
       "    </tr>\n",
       "    <tr>\n",
       "      <th>2019-09</th>\n",
       "      <td>1,060.7524</td>\n",
       "      <td>1,060.5701</td>\n",
       "      <td>1,049.0784</td>\n",
       "    </tr>\n",
       "    <tr>\n",
       "      <th>2019-10</th>\n",
       "      <td>1,083.7273</td>\n",
       "      <td>1,084.0138</td>\n",
       "      <td>1,071.2309</td>\n",
       "    </tr>\n",
       "    <tr>\n",
       "      <th>2019-11</th>\n",
       "      <td>1,123.0656</td>\n",
       "      <td>1,123.2530</td>\n",
       "      <td>1,113.2310</td>\n",
       "    </tr>\n",
       "    <tr>\n",
       "      <th>2019-12</th>\n",
       "      <td>1,156.9629</td>\n",
       "      <td>1,155.8895</td>\n",
       "      <td>1,138.0088</td>\n",
       "    </tr>\n",
       "    <tr>\n",
       "      <th>2020-01</th>\n",
       "      <td>1,156.5092</td>\n",
       "      <td>1,155.4228</td>\n",
       "      <td>1,150.8854</td>\n",
       "    </tr>\n",
       "    <tr>\n",
       "      <th>2020-02</th>\n",
       "      <td>1,061.3068</td>\n",
       "      <td>1,063.9527</td>\n",
       "      <td>1,030.6340</td>\n",
       "    </tr>\n",
       "    <tr>\n",
       "      <th>2020-03</th>\n",
       "      <td>930.2211</td>\n",
       "      <td>931.0940</td>\n",
       "      <td>923.5732</td>\n",
       "    </tr>\n",
       "  </tbody>\n",
       "</table>\n",
       "</div>"
      ],
      "text/plain": [
       "         SP500TR.INDX     SPY.US   SBSP.MCX\n",
       "Date                                       \n",
       "2019-04    1,000.0000 1,000.0000 1,000.0000\n",
       "2019-05      974.3683   974.4759   975.4826\n",
       "2019-06    1,043.0385 1,042.2852 1,030.5699\n",
       "2019-07    1,058.0302 1,058.0439 1,061.8433\n",
       "2019-08    1,041.2696 1,040.3287 1,031.9364\n",
       "2019-09    1,060.7524 1,060.5701 1,049.0784\n",
       "2019-10    1,083.7273 1,084.0138 1,071.2309\n",
       "2019-11    1,123.0656 1,123.2530 1,113.2310\n",
       "2019-12    1,156.9629 1,155.8895 1,138.0088\n",
       "2020-01    1,156.5092 1,155.4228 1,150.8854\n",
       "2020-02    1,061.3068 1,063.9527 1,030.6340\n",
       "2020-03      930.2211   931.0940   923.5732"
      ]
     },
     "execution_count": 54,
     "metadata": {},
     "output_type": "execute_result"
    }
   ],
   "source": [
    "x1.wealth_indexes[:'2020-03']"
   ]
  },
  {
   "cell_type": "code",
   "execution_count": 40,
   "metadata": {},
   "outputs": [
    {
     "data": {
      "text/plain": [
       "0.0003016575162420043"
      ]
     },
     "execution_count": 40,
     "metadata": {},
     "output_type": "execute_result"
    }
   ],
   "source": [
    "x1.wealth_indexes['SPY.US'].iloc[-1] / x1.wealth_indexes['SP500TR.INDX'].iloc[-1] - 1."
   ]
  },
  {
   "cell_type": "code",
   "execution_count": 41,
   "metadata": {},
   "outputs": [
    {
     "data": {
      "text/plain": [
       "0.004082715207199383"
      ]
     },
     "execution_count": 41,
     "metadata": {},
     "output_type": "execute_result"
    }
   ],
   "source": [
    "x1.wealth_indexes['SBSP.MCX'].iloc[-1] / x1.wealth_indexes['SP500TR.INDX'].iloc[-1] - 1."
   ]
  },
  {
   "cell_type": "code",
   "execution_count": 45,
   "metadata": {},
   "outputs": [],
   "source": [
    "x3 = AssetList(ls)"
   ]
  },
  {
   "cell_type": "code",
   "execution_count": 59,
   "metadata": {},
   "outputs": [
    {
     "data": {
      "text/plain": [
       "Timestamp('2019-06-01 00:00:00')"
      ]
     },
     "execution_count": 59,
     "metadata": {},
     "output_type": "execute_result"
    }
   ],
   "source": [
    "x3.first_date"
   ]
  },
  {
   "cell_type": "code",
   "execution_count": 57,
   "metadata": {},
   "outputs": [
    {
     "data": {
      "text/plain": [
       "SP500TR.INDX    0.0164\n",
       "SPY.US          0.0158\n",
       "SBSP.MCX       -0.0113\n",
       "VTBA.MCX       -0.0211\n",
       "AKSP.MCX       -0.1411\n",
       "dtype: float64"
      ]
     },
     "execution_count": 57,
     "metadata": {},
     "output_type": "execute_result"
    }
   ],
   "source": [
    "ret = (x3.ror + 1.).prod() - 1.\n",
    "ret"
   ]
  },
  {
   "cell_type": "code",
   "execution_count": 58,
   "metadata": {},
   "outputs": [
    {
     "data": {
      "text/plain": [
       "0.022958779660885557"
      ]
     },
     "execution_count": 58,
     "metadata": {},
     "output_type": "execute_result"
    }
   ],
   "source": [
    "((x3.ror['AKSP.MCX'] - x3.ror.iloc[:,0])**2).sum()"
   ]
  },
  {
   "cell_type": "code",
   "execution_count": 7,
   "metadata": {},
   "outputs": [
    {
     "data": {
      "text/plain": [
       "11"
      ]
     },
     "execution_count": 7,
     "metadata": {},
     "output_type": "execute_result"
    }
   ],
   "source": [
    "x3.ror.shape[0]"
   ]
  },
  {
   "cell_type": "code",
   "execution_count": 67,
   "metadata": {},
   "outputs": [
    {
     "data": {
      "text/plain": [
       "SP500TR.INDX    -1.7348\n",
       "SPY.US          -1.7160\n",
       "SBSP.MCX        -1.4463\n",
       "VTBA.MCX        -2.4909\n",
       "AKSP.MCX       -14.5392\n",
       "dtype: float64"
      ]
     },
     "execution_count": 67,
     "metadata": {},
     "output_type": "execute_result"
    }
   ],
   "source": [
    "ret = ((x3.ror + 1.).prod() - 1.)*100\n",
    "ret"
   ]
  },
  {
   "cell_type": "code",
   "execution_count": 73,
   "metadata": {},
   "outputs": [
    {
     "data": {
      "text/plain": [
       "-1.7348308743730056"
      ]
     },
     "execution_count": 73,
     "metadata": {},
     "output_type": "execute_result"
    }
   ],
   "source": [
    "ret['SP500TR.INDX']"
   ]
  }
 ],
 "metadata": {
  "kernelspec": {
   "display_name": "py38",
   "language": "python",
   "name": "py38"
  },
  "language_info": {
   "codemirror_mode": {
    "name": "ipython",
    "version": 3
   },
   "file_extension": ".py",
   "mimetype": "text/x-python",
   "name": "python",
   "nbconvert_exporter": "python",
   "pygments_lexer": "ipython3",
   "version": "3.8.2"
  }
 },
 "nbformat": 4,
 "nbformat_minor": 4
}
