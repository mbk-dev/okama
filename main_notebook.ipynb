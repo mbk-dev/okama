{
 "cells": [
  {
   "cell_type": "code",
   "execution_count": 19,
   "metadata": {},
   "outputs": [
    {
     "name": "stdout",
     "output_type": "stream",
     "text": [
      "The autoreload extension is already loaded. To reload it, use:\n",
      "  %reload_ext autoreload\n"
     ]
    }
   ],
   "source": [
    "from pathlib import Path\n",
    "import warnings\n",
    "warnings.filterwarnings(\"ignore\")\n",
    "\n",
    "import numpy as np\n",
    "import pandas as pd\n",
    "\n",
    "import matplotlib.pyplot as plt\n",
    "import matplotlib.image as image\n",
    "import matplotlib.dates as mdates\n",
    "\n",
    "plt.rcParams[\"figure.figsize\"] = [12.0, 6.0]\n",
    "\n",
    "import okama as ok\n",
    "\n",
    "pd.options.display.float_format = \"{:,.5f}\".format\n",
    "np.set_printoptions(precision=5)\n",
    "\n",
    "%load_ext autoreload\n",
    "%autoreload 2"
   ]
  },
  {
   "cell_type": "code",
   "execution_count": 20,
   "metadata": {
    "collapsed": false,
    "jupyter": {
     "outputs_hidden": false
    }
   },
   "outputs": [
    {
     "data": {
      "text/plain": "'1.4.2'"
     },
     "execution_count": 20,
     "metadata": {},
     "output_type": "execute_result"
    }
   ],
   "source": [
    "ok.__version__"
   ]
  },
  {
   "cell_type": "code",
   "execution_count": 21,
   "outputs": [],
   "source": [
    "ef = ok.EfficientFrontierReb(\n",
    "    assets=[\n",
    "        'RGBITR.INDX',\n",
    "        'RUCBTRNS.INDX',\n",
    "        'MCFTR.INDX',\n",
    "        'GC.COMM'\n",
    "    ],\n",
    "    inflation=True,\n",
    "    ccy=\"RUB\",\n",
    "    rebalancing_period=\"year\",\n",
    "    n_points=20\n",
    ")"
   ],
   "metadata": {
    "collapsed": false
   }
  },
  {
   "cell_type": "code",
   "execution_count": 22,
   "outputs": [
    {
     "data": {
      "text/plain": "20"
     },
     "execution_count": 22,
     "metadata": {},
     "output_type": "execute_result"
    }
   ],
   "source": [
    "ef.n_points"
   ],
   "metadata": {
    "collapsed": false
   }
  },
  {
   "cell_type": "code",
   "execution_count": 24,
   "outputs": [],
   "source": [
    "result = ef.max_withdrawals_points(\n",
    "    withdrawal_steps=20,\n",
    "    confidence_level=0.5,\n",
    "    # cash flow\n",
    "    initial_investment=10_300_000,\n",
    "    indexation=0,\n",
    "    min_amount=-100_000,\n",
    "    max_amount=-1,\n",
    "    # monte carlo\n",
    "    distribution=\"t\",\n",
    "    period=10,\n",
    "    number=100\n",
    ")"
   ],
   "metadata": {
    "collapsed": false
   }
  },
  {
   "cell_type": "code",
   "execution_count": 25,
   "outputs": [
    {
     "data": {
      "text/plain": "    RGBITR.INDX  RUCBTRNS.INDX  MCFTR.INDX  GC.COMM  Mean return    Risk  \\\n0       0.25000        0.25000     0.25000  0.25000      0.00664 0.10843   \n1       0.25000        0.25000     0.25000  0.25000      0.00706 0.10843   \n2       0.25000        0.25000     0.25000  0.25000      0.00749 0.10843   \n3       0.25000        0.25000     0.25000  0.25000      0.00791 0.10843   \n4           NaN            NaN         NaN      NaN      0.00834     NaN   \n5       0.25000        0.25000     0.25000  0.25000      0.00876 0.10843   \n6           NaN            NaN         NaN      NaN      0.00918     NaN   \n7       0.25000        0.25000     0.25000  0.25000      0.00961 0.10843   \n8       0.25000        0.25000     0.25000  0.25000      0.01003 0.10843   \n9       0.25000        0.25000     0.25000  0.25000      0.01046 0.10843   \n10      0.25000        0.25000     0.25000  0.25000      0.01088 0.10843   \n11      0.25000        0.25000     0.25000  0.25000      0.01130 0.10843   \n12          NaN            NaN         NaN      NaN      0.01173     NaN   \n13          NaN            NaN         NaN      NaN      0.01215     NaN   \n14      0.25000        0.25000     0.25000  0.25000      0.01257 0.10843   \n15      0.25000        0.25000     0.25000  0.25000      0.01300 0.10843   \n16          NaN            NaN         NaN      NaN      0.01342     NaN   \n17      0.25000        0.25000     0.25000  0.25000      0.01385 0.10843   \n18      0.25000        0.25000     0.25000  0.25000      0.01427 0.10843   \n19          NaN            NaN         NaN      NaN      0.01469     NaN   \n\n    Max withdrawals  \n0     -63,158.26316  \n1               NaN  \n2               NaN  \n3               NaN  \n4               NaN  \n5               NaN  \n6               NaN  \n7               NaN  \n8               NaN  \n9               NaN  \n10    -63,158.26316  \n11              NaN  \n12              NaN  \n13              NaN  \n14              NaN  \n15              NaN  \n16              NaN  \n17              NaN  \n18    -57,895.15789  \n19              NaN  ",
      "text/html": "<div>\n<style scoped>\n    .dataframe tbody tr th:only-of-type {\n        vertical-align: middle;\n    }\n\n    .dataframe tbody tr th {\n        vertical-align: top;\n    }\n\n    .dataframe thead th {\n        text-align: right;\n    }\n</style>\n<table border=\"1\" class=\"dataframe\">\n  <thead>\n    <tr style=\"text-align: right;\">\n      <th></th>\n      <th>RGBITR.INDX</th>\n      <th>RUCBTRNS.INDX</th>\n      <th>MCFTR.INDX</th>\n      <th>GC.COMM</th>\n      <th>Mean return</th>\n      <th>Risk</th>\n      <th>Max withdrawals</th>\n    </tr>\n  </thead>\n  <tbody>\n    <tr>\n      <th>0</th>\n      <td>0.25000</td>\n      <td>0.25000</td>\n      <td>0.25000</td>\n      <td>0.25000</td>\n      <td>0.00664</td>\n      <td>0.10843</td>\n      <td>-63,158.26316</td>\n    </tr>\n    <tr>\n      <th>1</th>\n      <td>0.25000</td>\n      <td>0.25000</td>\n      <td>0.25000</td>\n      <td>0.25000</td>\n      <td>0.00706</td>\n      <td>0.10843</td>\n      <td>NaN</td>\n    </tr>\n    <tr>\n      <th>2</th>\n      <td>0.25000</td>\n      <td>0.25000</td>\n      <td>0.25000</td>\n      <td>0.25000</td>\n      <td>0.00749</td>\n      <td>0.10843</td>\n      <td>NaN</td>\n    </tr>\n    <tr>\n      <th>3</th>\n      <td>0.25000</td>\n      <td>0.25000</td>\n      <td>0.25000</td>\n      <td>0.25000</td>\n      <td>0.00791</td>\n      <td>0.10843</td>\n      <td>NaN</td>\n    </tr>\n    <tr>\n      <th>4</th>\n      <td>NaN</td>\n      <td>NaN</td>\n      <td>NaN</td>\n      <td>NaN</td>\n      <td>0.00834</td>\n      <td>NaN</td>\n      <td>NaN</td>\n    </tr>\n    <tr>\n      <th>5</th>\n      <td>0.25000</td>\n      <td>0.25000</td>\n      <td>0.25000</td>\n      <td>0.25000</td>\n      <td>0.00876</td>\n      <td>0.10843</td>\n      <td>NaN</td>\n    </tr>\n    <tr>\n      <th>6</th>\n      <td>NaN</td>\n      <td>NaN</td>\n      <td>NaN</td>\n      <td>NaN</td>\n      <td>0.00918</td>\n      <td>NaN</td>\n      <td>NaN</td>\n    </tr>\n    <tr>\n      <th>7</th>\n      <td>0.25000</td>\n      <td>0.25000</td>\n      <td>0.25000</td>\n      <td>0.25000</td>\n      <td>0.00961</td>\n      <td>0.10843</td>\n      <td>NaN</td>\n    </tr>\n    <tr>\n      <th>8</th>\n      <td>0.25000</td>\n      <td>0.25000</td>\n      <td>0.25000</td>\n      <td>0.25000</td>\n      <td>0.01003</td>\n      <td>0.10843</td>\n      <td>NaN</td>\n    </tr>\n    <tr>\n      <th>9</th>\n      <td>0.25000</td>\n      <td>0.25000</td>\n      <td>0.25000</td>\n      <td>0.25000</td>\n      <td>0.01046</td>\n      <td>0.10843</td>\n      <td>NaN</td>\n    </tr>\n    <tr>\n      <th>10</th>\n      <td>0.25000</td>\n      <td>0.25000</td>\n      <td>0.25000</td>\n      <td>0.25000</td>\n      <td>0.01088</td>\n      <td>0.10843</td>\n      <td>-63,158.26316</td>\n    </tr>\n    <tr>\n      <th>11</th>\n      <td>0.25000</td>\n      <td>0.25000</td>\n      <td>0.25000</td>\n      <td>0.25000</td>\n      <td>0.01130</td>\n      <td>0.10843</td>\n      <td>NaN</td>\n    </tr>\n    <tr>\n      <th>12</th>\n      <td>NaN</td>\n      <td>NaN</td>\n      <td>NaN</td>\n      <td>NaN</td>\n      <td>0.01173</td>\n      <td>NaN</td>\n      <td>NaN</td>\n    </tr>\n    <tr>\n      <th>13</th>\n      <td>NaN</td>\n      <td>NaN</td>\n      <td>NaN</td>\n      <td>NaN</td>\n      <td>0.01215</td>\n      <td>NaN</td>\n      <td>NaN</td>\n    </tr>\n    <tr>\n      <th>14</th>\n      <td>0.25000</td>\n      <td>0.25000</td>\n      <td>0.25000</td>\n      <td>0.25000</td>\n      <td>0.01257</td>\n      <td>0.10843</td>\n      <td>NaN</td>\n    </tr>\n    <tr>\n      <th>15</th>\n      <td>0.25000</td>\n      <td>0.25000</td>\n      <td>0.25000</td>\n      <td>0.25000</td>\n      <td>0.01300</td>\n      <td>0.10843</td>\n      <td>NaN</td>\n    </tr>\n    <tr>\n      <th>16</th>\n      <td>NaN</td>\n      <td>NaN</td>\n      <td>NaN</td>\n      <td>NaN</td>\n      <td>0.01342</td>\n      <td>NaN</td>\n      <td>NaN</td>\n    </tr>\n    <tr>\n      <th>17</th>\n      <td>0.25000</td>\n      <td>0.25000</td>\n      <td>0.25000</td>\n      <td>0.25000</td>\n      <td>0.01385</td>\n      <td>0.10843</td>\n      <td>NaN</td>\n    </tr>\n    <tr>\n      <th>18</th>\n      <td>0.25000</td>\n      <td>0.25000</td>\n      <td>0.25000</td>\n      <td>0.25000</td>\n      <td>0.01427</td>\n      <td>0.10843</td>\n      <td>-57,895.15789</td>\n    </tr>\n    <tr>\n      <th>19</th>\n      <td>NaN</td>\n      <td>NaN</td>\n      <td>NaN</td>\n      <td>NaN</td>\n      <td>0.01469</td>\n      <td>NaN</td>\n      <td>NaN</td>\n    </tr>\n  </tbody>\n</table>\n</div>"
     },
     "execution_count": 25,
     "metadata": {},
     "output_type": "execute_result"
    }
   ],
   "source": [
    "result"
   ],
   "metadata": {
    "collapsed": false
   }
  },
  {
   "cell_type": "markdown",
   "metadata": {
    "collapsed": false,
    "jupyter": {
     "outputs_hidden": false
    }
   },
   "source": [
    "## DCF"
   ]
  },
  {
   "cell_type": "code",
   "execution_count": 3,
   "metadata": {
    "collapsed": false,
    "jupyter": {
     "outputs_hidden": false
    }
   },
   "outputs": [
    {
     "data": {
      "text/plain": "symbol                                              retirement_portf.PF\nassets                [RGBITR.INDX, RUCBTRNS.INDX, MCFTR.INDX, GC.COMM]\nweights                                          [0.1, 0.51, 0.19, 0.2]\nrebalancing_period                                                 year\ncurrency                                                            RUB\ninflation                                                      RUB.INFL\nfirst_date                                                      2003-01\nlast_date                                                       2024-07\nperiod_length                                        21 years, 7 months\ndtype: object"
     },
     "execution_count": 3,
     "metadata": {},
     "output_type": "execute_result"
    }
   ],
   "source": [
    "weights = [0.10, 0.51,  0.19, .20]\n",
    "\n",
    "portf = ok.Portfolio(\n",
    "    [\n",
    "        \"RGBITR.INDX\",\n",
    "        \"RUCBTRNS.INDX\",\n",
    "        \"MCFTR.INDX\",\n",
    "        \"GC.COMM\"\n",
    "    ],\n",
    "    ccy=\"RUB\",\n",
    "    weights=weights,\n",
    "    inflation=True,\n",
    "    symbol=\"retirement_portf.PF\",\n",
    "    rebalancing_period=\"year\",\n",
    ")\n",
    "portf"
   ]
  },
  {
   "cell_type": "code",
   "execution_count": 49,
   "outputs": [],
   "source": [
    "# Set cashflow\n",
    "portf_copy.dcf.set_cashflow_parameters(\n",
    "    initial_investment=10_300_000,\n",
    "    method=\"fixed_amount\",\n",
    "    frequency=\"month\",\n",
    "    amount=-50_000,\n",
    "    indexation=0\n",
    ")"
   ],
   "metadata": {
    "collapsed": false
   }
  },
  {
   "cell_type": "code",
   "execution_count": 50,
   "outputs": [],
   "source": [
    "# Set Monte Carlo\n",
    "portf_copy.dcf.set_mc_parameters(distribution=\"t\", period=20, number=100)"
   ],
   "metadata": {
    "collapsed": false
   }
  },
  {
   "cell_type": "code",
   "execution_count": 51,
   "outputs": [
    {
     "data": {
      "text/plain": "27328966.362987548"
     },
     "execution_count": 51,
     "metadata": {},
     "output_type": "execute_result"
    }
   ],
   "source": [
    "portf_copy.dcf.initial_investment_fv"
   ],
   "metadata": {
    "collapsed": false
   }
  },
  {
   "cell_type": "code",
   "execution_count": 52,
   "outputs": [
    {
     "name": "stdout",
     "output_type": "stream",
     "text": [
      "testing: -50000.0\n",
      "wealth_at_quantile=np.float64(22254810.6337315)\n",
      "testing: -44444.555555555555\n",
      "wealth_at_quantile=np.float64(24968429.118762903)\n",
      "testing: -38889.11111111111\n",
      "wealth_at_quantile=np.float64(27534445.54672993)\n"
     ]
    },
    {
     "data": {
      "text/plain": "np.float64(-38889.11111111111)"
     },
     "execution_count": 52,
     "metadata": {},
     "output_type": "execute_result"
    }
   ],
   "source": [
    "min_amount = -50_000\n",
    "max_amount = -1\n",
    "steps = 10\n",
    "confidence_level = 0.5\n",
    "\n",
    "largest_withdrawal = portf_copy.dcf.find_the_largest_withdrawals_size(\n",
    "                min_amount=min_amount,\n",
    "                max_amount=max_amount,\n",
    "                steps=steps,\n",
    "                confidence_level=confidence_level\n",
    "            )\n",
    "largest_withdrawal"
   ],
   "metadata": {
    "collapsed": false
   }
  },
  {
   "cell_type": "code",
   "execution_count": 50,
   "metadata": {
    "collapsed": false,
    "jupyter": {
     "outputs_hidden": false
    }
   },
   "outputs": [],
   "source": [
    "portf_copy.dcf.set_mc_parameters(distribution=\"lognorm\", period=20, number=100)"
   ]
  },
  {
   "cell_type": "code",
   "execution_count": 15,
   "metadata": {
    "collapsed": false,
    "jupyter": {
     "outputs_hidden": false
    }
   },
   "outputs": [],
   "source": [
    "df = portf.dcf.monte_carlo_wealth"
   ]
  },
  {
   "cell_type": "code",
   "execution_count": 18,
   "metadata": {
    "collapsed": false,
    "jupyter": {
     "outputs_hidden": false
    }
   },
   "outputs": [
    {
     "data": {
      "text/html": [
       "<div>\n",
       "<style scoped>\n",
       "    .dataframe tbody tr th:only-of-type {\n",
       "        vertical-align: middle;\n",
       "    }\n",
       "\n",
       "    .dataframe tbody tr th {\n",
       "        vertical-align: top;\n",
       "    }\n",
       "\n",
       "    .dataframe thead th {\n",
       "        text-align: right;\n",
       "    }\n",
       "</style>\n",
       "<table border=\"1\" class=\"dataframe\">\n",
       "  <thead>\n",
       "    <tr style=\"text-align: right;\">\n",
       "      <th></th>\n",
       "    </tr>\n",
       "  </thead>\n",
       "  <tbody>\n",
       "  </tbody>\n",
       "</table>\n",
       "</div>"
      ],
      "text/plain": [
       "Empty DataFrame\n",
       "Columns: []\n",
       "Index: []"
      ]
     },
     "execution_count": 18,
     "metadata": {},
     "output_type": "execute_result"
    }
   ],
   "source": [
    "portf.dcf._monte_carlo_wealth"
   ]
  },
  {
   "cell_type": "code",
   "execution_count": 14,
   "metadata": {
    "collapsed": false,
    "jupyter": {
     "outputs_hidden": false
    }
   },
   "outputs": [
    {
     "data": {
      "text/plain": "count   10.00000\nmean    20.00000\nstd      0.00000\nmin     20.00000\n25%     20.00000\n50%     20.00000\n75%     20.00000\nmax     20.00000\ndtype: float64"
     },
     "execution_count": 14,
     "metadata": {},
     "output_type": "execute_result"
    }
   ],
   "source": [
    "portf.dcf.monte_carlo_survival_period.describe()"
   ]
  },
  {
   "cell_type": "code",
   "execution_count": 26,
   "outputs": [
    {
     "data": {
      "text/plain": "<Figure size 1200x600 with 1 Axes>",
      "image/png": "[encoded data removed]"
     },
     "metadata": {},
     "output_type": "display_data"
    }
   ],
   "source": [
    "portf.dcf.plot_forecast_monte_carlo(backtest=False)"
   ],
   "metadata": {
    "collapsed": false
   }
  },
  {
   "cell_type": "markdown",
   "source": [
    "## Find withdrawl amount"
   ],
   "metadata": {
    "collapsed": false
   }
  },
  {
   "cell_type": "code",
   "execution_count": 41,
   "outputs": [],
   "source": [
    "portf.dcf.set_mc_parameters(distribution=\"t\", period=40, number=1000)"
   ],
   "metadata": {
    "collapsed": false
   }
  },
  {
   "cell_type": "code",
   "execution_count": 42,
   "outputs": [
    {
     "data": {
      "text/plain": "array([-100000.     ,  -89444.44444,  -78888.88889,  -68333.33333,\n        -57777.77778,  -47222.22222,  -36666.66667,  -26111.11111,\n        -15555.55556,   -5000.     ])"
     },
     "execution_count": 42,
     "metadata": {},
     "output_type": "execute_result"
    }
   ],
   "source": [
    "min_amount = -100_000\n",
    "max_amount = -5_000\n",
    "steps = 10\n",
    "amount_range = np.linspace(min_amount, max_amount, steps)\n",
    "amount_range"
   ],
   "metadata": {
    "collapsed": false
   }
  },
  {
   "cell_type": "code",
   "execution_count": 43,
   "outputs": [
    {
     "data": {
      "text/plain": "np.float64(261339454.316157)"
     },
     "execution_count": 43,
     "metadata": {},
     "output_type": "execute_result"
    }
   ],
   "source": [
    "portf.dcf.initial_investment_fv"
   ],
   "metadata": {
    "collapsed": false
   }
  },
  {
   "cell_type": "code",
   "execution_count": 44,
   "outputs": [
    {
     "name": "stdout",
     "output_type": "stream",
     "text": [
      "testing -100000.0\n",
      "Survival period is good\n",
      "portfolios balance is low.\n",
      "testing -89444.4\n",
      "Survival period is good\n",
      "portfolios balance is low.\n",
      "testing -78888.9\n",
      "Survival period is good\n",
      "max withdrawl found: -78888.9\n"
     ]
    }
   ],
   "source": [
    "for a in amount_range:\n",
    "    # Set cashflow\n",
    "    print(f\"testing {a:.1f}\")\n",
    "    portf.dcf.set_cashflow_parameters(\n",
    "        initial_investment=10_300_000,\n",
    "        method=\"fixed_amount\",\n",
    "        frequency=\"quarter\",\n",
    "        amount=a,\n",
    "        indexation=portf.dcf.discount_rate\n",
    "    )\n",
    "    sp25 = portf.dcf.monte_carlo_survival_period.quantile(25/100)\n",
    "    wealth25 = portf.dcf.monte_carlo_wealth.iloc[-1, :].quantile(25/100)\n",
    "    if sp25 == portf.dcf.mc.period:\n",
    "        print(f\"Survival period is good\")\n",
    "        if wealth25 >= portf.dcf.initial_investment_fv:\n",
    "            print(f\"max withdrawl found: {a:.1f}\")\n",
    "            break\n",
    "        else:\n",
    "            print(f\"portfolios balance is low.\")"
   ],
   "metadata": {
    "collapsed": false
   }
  },
  {
   "cell_type": "code",
   "execution_count": null,
   "outputs": [],
   "source": [],
   "metadata": {
    "collapsed": false
   }
  },
  {
   "cell_type": "markdown",
   "metadata": {},
   "source": [
    "## Rolling and expanding risk"
   ]
  },
  {
   "cell_type": "code",
   "execution_count": 13,
   "metadata": {},
   "outputs": [
    {
     "data": {
      "text/plain": [
       "assets             [SPY.US, BND.US]\n",
       "currency                        USD\n",
       "first_date                  2007-05\n",
       "last_date                   2024-01\n",
       "period_length    16 years, 9 months\n",
       "inflation                  USD.INFL\n",
       "dtype: object"
      ]
     },
     "execution_count": 13,
     "metadata": {},
     "output_type": "execute_result"
    }
   ],
   "source": [
    "al = ok.AssetList([\"SPY.US\", \"BND.US\"])\n",
    "al"
   ]
  },
  {
   "cell_type": "code",
   "execution_count": 9,
   "metadata": {},
   "outputs": [
    {
     "data": {
      "text/plain": [
       "<Axes: xlabel='date'>"
      ]
     },
     "execution_count": 9,
     "metadata": {},
     "output_type": "execute_result"
    },
    {
     "data": {
      "image/png": "[encoded data removed]",
      "text/plain": [
       "<Figure size 1200x800 with 1 Axes>"
      ]
     },
     "metadata": {},
     "output_type": "display_data"
    }
   ],
   "source": [
    "al.risk_annual.plot()"
   ]
  },
  {
   "cell_type": "code",
   "execution_count": 10,
   "metadata": {
    "collapsed": false,
    "jupyter": {
     "outputs_hidden": false
    }
   },
   "outputs": [
    {
     "data": {
      "text/plain": [
       "<Axes: xlabel='date'>"
      ]
     },
     "execution_count": 10,
     "metadata": {},
     "output_type": "execute_result"
    },
    {
     "data": {
      "image/png": "[encoded data removed]",
      "text/plain": [
       "<Figure size 1200x800 with 1 Axes>"
      ]
     },
     "metadata": {},
     "output_type": "display_data"
    }
   ],
   "source": [
    "al.get_rolling_risk_annual(window=12 * 5).plot()"
   ]
  },
  {
   "cell_type": "code",
   "execution_count": 14,
   "metadata": {
    "collapsed": false,
    "jupyter": {
     "outputs_hidden": false
    }
   },
   "outputs": [
    {
     "name": "stderr",
     "output_type": "stream",
     "text": [
      "C:\\Users\\Sergey\\PycharmProjects\\okama\\okama\\asset.py:175: FutureWarning: Resampling with a PeriodIndex is deprecated. Cast index to DatetimeIndex before resampling instead.\n",
      "  return div.resample(\"M\").sum()\n",
      "C:\\Users\\Sergey\\PycharmProjects\\okama\\okama\\asset.py:175: FutureWarning: Resampling with a PeriodIndex is deprecated. Cast index to DatetimeIndex before resampling instead.\n",
      "  return div.resample(\"M\").sum()\n"
     ]
    },
    {
     "data": {
      "text/html": [
       "<div>\n",
       "<style scoped>\n",
       "    .dataframe tbody tr th:only-of-type {\n",
       "        vertical-align: middle;\n",
       "    }\n",
       "\n",
       "    .dataframe tbody tr th {\n",
       "        vertical-align: top;\n",
       "    }\n",
       "\n",
       "    .dataframe thead th {\n",
       "        text-align: right;\n",
       "    }\n",
       "</style>\n",
       "<table border=\"1\" class=\"dataframe\">\n",
       "  <thead>\n",
       "    <tr style=\"text-align: right;\">\n",
       "      <th></th>\n",
       "      <th>property</th>\n",
       "      <th>period</th>\n",
       "      <th>SPY.US</th>\n",
       "      <th>BND.US</th>\n",
       "      <th>inflation</th>\n",
       "    </tr>\n",
       "  </thead>\n",
       "  <tbody>\n",
       "    <tr>\n",
       "      <th>0</th>\n",
       "      <td>Compound return</td>\n",
       "      <td>YTD</td>\n",
       "      <td>0.01590</td>\n",
       "      <td>-0.00160</td>\n",
       "      <td>0.00540</td>\n",
       "    </tr>\n",
       "    <tr>\n",
       "      <th>1</th>\n",
       "      <td>CAGR</td>\n",
       "      <td>1 years</td>\n",
       "      <td>0.20603</td>\n",
       "      <td>0.02105</td>\n",
       "      <td>0.03089</td>\n",
       "    </tr>\n",
       "    <tr>\n",
       "      <th>2</th>\n",
       "      <td>CAGR</td>\n",
       "      <td>5 years</td>\n",
       "      <td>0.14194</td>\n",
       "      <td>0.00782</td>\n",
       "      <td>0.04148</td>\n",
       "    </tr>\n",
       "    <tr>\n",
       "      <th>3</th>\n",
       "      <td>CAGR</td>\n",
       "      <td>10 years</td>\n",
       "      <td>0.12509</td>\n",
       "      <td>0.01565</td>\n",
       "      <td>0.02805</td>\n",
       "    </tr>\n",
       "    <tr>\n",
       "      <th>4</th>\n",
       "      <td>CAGR</td>\n",
       "      <td>16 years, 9 months</td>\n",
       "      <td>0.09404</td>\n",
       "      <td>0.02918</td>\n",
       "      <td>0.02419</td>\n",
       "    </tr>\n",
       "    <tr>\n",
       "      <th>5</th>\n",
       "      <td>Annualized mean return</td>\n",
       "      <td>16 years, 9 months</td>\n",
       "      <td>0.10801</td>\n",
       "      <td>0.03024</td>\n",
       "      <td>NaN</td>\n",
       "    </tr>\n",
       "    <tr>\n",
       "      <th>6</th>\n",
       "      <td>Dividend yield</td>\n",
       "      <td>LTM</td>\n",
       "      <td>0.01374</td>\n",
       "      <td>0.03090</td>\n",
       "      <td>NaN</td>\n",
       "    </tr>\n",
       "    <tr>\n",
       "      <th>7</th>\n",
       "      <td>Risk</td>\n",
       "      <td>16 years, 9 months</td>\n",
       "      <td>0.17617</td>\n",
       "      <td>0.04695</td>\n",
       "      <td>NaN</td>\n",
       "    </tr>\n",
       "    <tr>\n",
       "      <th>8</th>\n",
       "      <td>CVAR</td>\n",
       "      <td>16 years, 9 months</td>\n",
       "      <td>0.40832</td>\n",
       "      <td>0.15194</td>\n",
       "      <td>NaN</td>\n",
       "    </tr>\n",
       "    <tr>\n",
       "      <th>9</th>\n",
       "      <td>Max drawdowns</td>\n",
       "      <td>16 years, 9 months</td>\n",
       "      <td>-0.50780</td>\n",
       "      <td>-0.17534</td>\n",
       "      <td>NaN</td>\n",
       "    </tr>\n",
       "    <tr>\n",
       "      <th>10</th>\n",
       "      <td>Max drawdowns dates</td>\n",
       "      <td>16 years, 9 months</td>\n",
       "      <td>2009-02</td>\n",
       "      <td>2022-10</td>\n",
       "      <td>NaN</td>\n",
       "    </tr>\n",
       "    <tr>\n",
       "      <th>11</th>\n",
       "      <td>Inception date</td>\n",
       "      <td>None</td>\n",
       "      <td>1993-02</td>\n",
       "      <td>2007-05</td>\n",
       "      <td>2007-05</td>\n",
       "    </tr>\n",
       "    <tr>\n",
       "      <th>12</th>\n",
       "      <td>Last asset date</td>\n",
       "      <td>None</td>\n",
       "      <td>2024-02</td>\n",
       "      <td>2024-02</td>\n",
       "      <td>2024-01</td>\n",
       "    </tr>\n",
       "    <tr>\n",
       "      <th>13</th>\n",
       "      <td>Common last data date</td>\n",
       "      <td>None</td>\n",
       "      <td>2024-01</td>\n",
       "      <td>2024-01</td>\n",
       "      <td>2024-01</td>\n",
       "    </tr>\n",
       "  </tbody>\n",
       "</table>\n",
       "</div>"
      ],
      "text/plain": [
       "                  property              period   SPY.US   BND.US inflation\n",
       "0          Compound return                 YTD  0.01590 -0.00160   0.00540\n",
       "1                     CAGR             1 years  0.20603  0.02105   0.03089\n",
       "2                     CAGR             5 years  0.14194  0.00782   0.04148\n",
       "3                     CAGR            10 years  0.12509  0.01565   0.02805\n",
       "4                     CAGR  16 years, 9 months  0.09404  0.02918   0.02419\n",
       "5   Annualized mean return  16 years, 9 months  0.10801  0.03024       NaN\n",
       "6           Dividend yield                 LTM  0.01374  0.03090       NaN\n",
       "7                     Risk  16 years, 9 months  0.17617  0.04695       NaN\n",
       "8                     CVAR  16 years, 9 months  0.40832  0.15194       NaN\n",
       "9            Max drawdowns  16 years, 9 months -0.50780 -0.17534       NaN\n",
       "10     Max drawdowns dates  16 years, 9 months  2009-02  2022-10       NaN\n",
       "11          Inception date                None  1993-02  2007-05   2007-05\n",
       "12         Last asset date                None  2024-02  2024-02   2024-01\n",
       "13   Common last data date                None  2024-01  2024-01   2024-01"
      ]
     },
     "execution_count": 14,
     "metadata": {},
     "output_type": "execute_result"
    }
   ],
   "source": [
    "al.describe()"
   ]
  },
  {
   "cell_type": "markdown",
   "metadata": {
    "collapsed": false,
    "jupyter": {
     "outputs_hidden": false
    }
   },
   "source": [
    "## Dividends"
   ]
  },
  {
   "cell_type": "code",
   "execution_count": 5,
   "metadata": {
    "collapsed": false,
    "jupyter": {
     "outputs_hidden": false
    }
   },
   "outputs": [
    {
     "data": {
      "text/plain": [
       "assets           [SBERP.MOEX, LKOH.MOEX]\n",
       "currency                             RUB\n",
       "first_date                       2006-09\n",
       "last_date                        2023-12\n",
       "period_length         17 years, 4 months\n",
       "inflation                       RUB.INFL\n",
       "dtype: object"
      ]
     },
     "execution_count": 5,
     "metadata": {},
     "output_type": "execute_result"
    }
   ],
   "source": [
    "al = ok.AssetList([\"SBERP.MOEX\", \"LKOH.MOEX\"], ccy=\"RUB\")\n",
    "al"
   ]
  },
  {
   "cell_type": "code",
   "execution_count": 6,
   "metadata": {
    "collapsed": false,
    "jupyter": {
     "outputs_hidden": false
    }
   },
   "outputs": [
    {
     "data": {
      "text/html": [
       "<div>\n",
       "<style scoped>\n",
       "    .dataframe tbody tr th:only-of-type {\n",
       "        vertical-align: middle;\n",
       "    }\n",
       "\n",
       "    .dataframe tbody tr th {\n",
       "        vertical-align: top;\n",
       "    }\n",
       "\n",
       "    .dataframe thead th {\n",
       "        text-align: right;\n",
       "    }\n",
       "</style>\n",
       "<table border=\"1\" class=\"dataframe\">\n",
       "  <thead>\n",
       "    <tr style=\"text-align: right;\">\n",
       "      <th></th>\n",
       "      <th>SBERP.MOEX</th>\n",
       "      <th>LKOH.MOEX</th>\n",
       "    </tr>\n",
       "  </thead>\n",
       "  <tbody>\n",
       "    <tr>\n",
       "      <th>2006</th>\n",
       "      <td>0.00000</td>\n",
       "      <td>0.00000</td>\n",
       "    </tr>\n",
       "    <tr>\n",
       "      <th>2007</th>\n",
       "      <td>0.46500</td>\n",
       "      <td>38.00000</td>\n",
       "    </tr>\n",
       "    <tr>\n",
       "      <th>2008</th>\n",
       "      <td>0.65000</td>\n",
       "      <td>42.00000</td>\n",
       "    </tr>\n",
       "    <tr>\n",
       "      <th>2009</th>\n",
       "      <td>0.63000</td>\n",
       "      <td>50.00000</td>\n",
       "    </tr>\n",
       "    <tr>\n",
       "      <th>2010</th>\n",
       "      <td>0.45000</td>\n",
       "      <td>52.00000</td>\n",
       "    </tr>\n",
       "    <tr>\n",
       "      <th>2011</th>\n",
       "      <td>1.15000</td>\n",
       "      <td>59.00000</td>\n",
       "    </tr>\n",
       "    <tr>\n",
       "      <th>2012</th>\n",
       "      <td>2.59000</td>\n",
       "      <td>115.00000</td>\n",
       "    </tr>\n",
       "    <tr>\n",
       "      <th>2013</th>\n",
       "      <td>3.20000</td>\n",
       "      <td>100.00000</td>\n",
       "    </tr>\n",
       "    <tr>\n",
       "      <th>2014</th>\n",
       "      <td>3.20000</td>\n",
       "      <td>120.00000</td>\n",
       "    </tr>\n",
       "    <tr>\n",
       "      <th>2015</th>\n",
       "      <td>0.45000</td>\n",
       "      <td>159.00000</td>\n",
       "    </tr>\n",
       "    <tr>\n",
       "      <th>2016</th>\n",
       "      <td>1.97000</td>\n",
       "      <td>187.00000</td>\n",
       "    </tr>\n",
       "    <tr>\n",
       "      <th>2017</th>\n",
       "      <td>6.00000</td>\n",
       "      <td>205.00000</td>\n",
       "    </tr>\n",
       "    <tr>\n",
       "      <th>2018</th>\n",
       "      <td>12.00000</td>\n",
       "      <td>225.00000</td>\n",
       "    </tr>\n",
       "    <tr>\n",
       "      <th>2019</th>\n",
       "      <td>16.00000</td>\n",
       "      <td>347.00000</td>\n",
       "    </tr>\n",
       "    <tr>\n",
       "      <th>2020</th>\n",
       "      <td>18.70000</td>\n",
       "      <td>396.00000</td>\n",
       "    </tr>\n",
       "    <tr>\n",
       "      <th>2021</th>\n",
       "      <td>18.70000</td>\n",
       "      <td>553.00000</td>\n",
       "    </tr>\n",
       "    <tr>\n",
       "      <th>2022</th>\n",
       "      <td>0.00000</td>\n",
       "      <td>793.00000</td>\n",
       "    </tr>\n",
       "    <tr>\n",
       "      <th>2023</th>\n",
       "      <td>25.00000</td>\n",
       "      <td>1,290.56000</td>\n",
       "    </tr>\n",
       "  </tbody>\n",
       "</table>\n",
       "</div>"
      ],
      "text/plain": [
       "      SBERP.MOEX   LKOH.MOEX\n",
       "2006     0.00000     0.00000\n",
       "2007     0.46500    38.00000\n",
       "2008     0.65000    42.00000\n",
       "2009     0.63000    50.00000\n",
       "2010     0.45000    52.00000\n",
       "2011     1.15000    59.00000\n",
       "2012     2.59000   115.00000\n",
       "2013     3.20000   100.00000\n",
       "2014     3.20000   120.00000\n",
       "2015     0.45000   159.00000\n",
       "2016     1.97000   187.00000\n",
       "2017     6.00000   205.00000\n",
       "2018    12.00000   225.00000\n",
       "2019    16.00000   347.00000\n",
       "2020    18.70000   396.00000\n",
       "2021    18.70000   553.00000\n",
       "2022     0.00000   793.00000\n",
       "2023    25.00000 1,290.56000"
      ]
     },
     "execution_count": 6,
     "metadata": {},
     "output_type": "execute_result"
    }
   ],
   "source": [
    "al.dividends_annual"
   ]
  },
  {
   "cell_type": "code",
   "execution_count": 8,
   "metadata": {
    "collapsed": false,
    "jupyter": {
     "outputs_hidden": false
    }
   },
   "outputs": [
    {
     "data": {
      "text/html": [
       "<div>\n",
       "<style scoped>\n",
       "    .dataframe tbody tr th:only-of-type {\n",
       "        vertical-align: middle;\n",
       "    }\n",
       "\n",
       "    .dataframe tbody tr th {\n",
       "        vertical-align: top;\n",
       "    }\n",
       "\n",
       "    .dataframe thead th {\n",
       "        text-align: right;\n",
       "    }\n",
       "</style>\n",
       "<table border=\"1\" class=\"dataframe\">\n",
       "  <thead>\n",
       "    <tr style=\"text-align: right;\">\n",
       "      <th></th>\n",
       "      <th>SBERP.MOEX</th>\n",
       "      <th>LKOH.MOEX</th>\n",
       "    </tr>\n",
       "  </thead>\n",
       "  <tbody>\n",
       "    <tr>\n",
       "      <th>2006-09</th>\n",
       "      <td>0.00000</td>\n",
       "      <td>0.00000</td>\n",
       "    </tr>\n",
       "    <tr>\n",
       "      <th>2006-10</th>\n",
       "      <td>0.00000</td>\n",
       "      <td>0.00000</td>\n",
       "    </tr>\n",
       "    <tr>\n",
       "      <th>2006-11</th>\n",
       "      <td>0.00000</td>\n",
       "      <td>0.00000</td>\n",
       "    </tr>\n",
       "    <tr>\n",
       "      <th>2006-12</th>\n",
       "      <td>0.00000</td>\n",
       "      <td>0.00000</td>\n",
       "    </tr>\n",
       "    <tr>\n",
       "      <th>2007-01</th>\n",
       "      <td>0.00000</td>\n",
       "      <td>0.00000</td>\n",
       "    </tr>\n",
       "    <tr>\n",
       "      <th>...</th>\n",
       "      <td>...</td>\n",
       "      <td>...</td>\n",
       "    </tr>\n",
       "    <tr>\n",
       "      <th>2023-08</th>\n",
       "      <td>0.09425</td>\n",
       "      <td>0.22437</td>\n",
       "    </tr>\n",
       "    <tr>\n",
       "      <th>2023-09</th>\n",
       "      <td>0.09580</td>\n",
       "      <td>0.22950</td>\n",
       "    </tr>\n",
       "    <tr>\n",
       "      <th>2023-10</th>\n",
       "      <td>0.09320</td>\n",
       "      <td>0.21406</td>\n",
       "    </tr>\n",
       "    <tr>\n",
       "      <th>2023-11</th>\n",
       "      <td>0.09058</td>\n",
       "      <td>0.21095</td>\n",
       "    </tr>\n",
       "    <tr>\n",
       "      <th>2023-12</th>\n",
       "      <td>0.09173</td>\n",
       "      <td>0.19069</td>\n",
       "    </tr>\n",
       "  </tbody>\n",
       "</table>\n",
       "<p>208 rows × 2 columns</p>\n",
       "</div>"
      ],
      "text/plain": [
       "         SBERP.MOEX  LKOH.MOEX\n",
       "2006-09     0.00000    0.00000\n",
       "2006-10     0.00000    0.00000\n",
       "2006-11     0.00000    0.00000\n",
       "2006-12     0.00000    0.00000\n",
       "2007-01     0.00000    0.00000\n",
       "...             ...        ...\n",
       "2023-08     0.09425    0.22437\n",
       "2023-09     0.09580    0.22950\n",
       "2023-10     0.09320    0.21406\n",
       "2023-11     0.09058    0.21095\n",
       "2023-12     0.09173    0.19069\n",
       "\n",
       "[208 rows x 2 columns]"
      ]
     },
     "execution_count": 8,
     "metadata": {},
     "output_type": "execute_result"
    }
   ],
   "source": [
    "al.dividend_yield"
   ]
  },
  {
   "cell_type": "code",
   "execution_count": 9,
   "metadata": {
    "collapsed": false,
    "jupyter": {
     "outputs_hidden": false
    }
   },
   "outputs": [
    {
     "data": {
      "text/html": [
       "<div>\n",
       "<style scoped>\n",
       "    .dataframe tbody tr th:only-of-type {\n",
       "        vertical-align: middle;\n",
       "    }\n",
       "\n",
       "    .dataframe tbody tr th {\n",
       "        vertical-align: top;\n",
       "    }\n",
       "\n",
       "    .dataframe thead th {\n",
       "        text-align: right;\n",
       "    }\n",
       "</style>\n",
       "<table border=\"1\" class=\"dataframe\">\n",
       "  <thead>\n",
       "    <tr style=\"text-align: right;\">\n",
       "      <th></th>\n",
       "      <th>SBERP.MOEX</th>\n",
       "      <th>LKOH.MOEX</th>\n",
       "    </tr>\n",
       "  </thead>\n",
       "  <tbody>\n",
       "    <tr>\n",
       "      <th>2006</th>\n",
       "      <td>0.00000</td>\n",
       "      <td>0.00000</td>\n",
       "    </tr>\n",
       "    <tr>\n",
       "      <th>2007</th>\n",
       "      <td>0.00667</td>\n",
       "      <td>0.01834</td>\n",
       "    </tr>\n",
       "    <tr>\n",
       "      <th>2008</th>\n",
       "      <td>0.07174</td>\n",
       "      <td>0.04368</td>\n",
       "    </tr>\n",
       "    <tr>\n",
       "      <th>2009</th>\n",
       "      <td>0.00913</td>\n",
       "      <td>0.02952</td>\n",
       "    </tr>\n",
       "    <tr>\n",
       "      <th>2010</th>\n",
       "      <td>0.00599</td>\n",
       "      <td>0.02985</td>\n",
       "    </tr>\n",
       "    <tr>\n",
       "      <th>2011</th>\n",
       "      <td>0.01943</td>\n",
       "      <td>0.03469</td>\n",
       "    </tr>\n",
       "    <tr>\n",
       "      <th>2012</th>\n",
       "      <td>0.03848</td>\n",
       "      <td>0.05749</td>\n",
       "    </tr>\n",
       "    <tr>\n",
       "      <th>2013</th>\n",
       "      <td>0.03999</td>\n",
       "      <td>0.04902</td>\n",
       "    </tr>\n",
       "    <tr>\n",
       "      <th>2014</th>\n",
       "      <td>0.08488</td>\n",
       "      <td>0.05393</td>\n",
       "    </tr>\n",
       "    <tr>\n",
       "      <th>2015</th>\n",
       "      <td>0.00588</td>\n",
       "      <td>0.06778</td>\n",
       "    </tr>\n",
       "    <tr>\n",
       "      <th>2016</th>\n",
       "      <td>0.01518</td>\n",
       "      <td>0.05422</td>\n",
       "    </tr>\n",
       "    <tr>\n",
       "      <th>2017</th>\n",
       "      <td>0.03175</td>\n",
       "      <td>0.06148</td>\n",
       "    </tr>\n",
       "    <tr>\n",
       "      <th>2018</th>\n",
       "      <td>0.07221</td>\n",
       "      <td>0.04503</td>\n",
       "    </tr>\n",
       "    <tr>\n",
       "      <th>2019</th>\n",
       "      <td>0.07008</td>\n",
       "      <td>0.05625</td>\n",
       "    </tr>\n",
       "    <tr>\n",
       "      <th>2020</th>\n",
       "      <td>0.07768</td>\n",
       "      <td>0.07663</td>\n",
       "    </tr>\n",
       "    <tr>\n",
       "      <th>2021</th>\n",
       "      <td>0.06723</td>\n",
       "      <td>0.08417</td>\n",
       "    </tr>\n",
       "    <tr>\n",
       "      <th>2022</th>\n",
       "      <td>0.00000</td>\n",
       "      <td>0.19472</td>\n",
       "    </tr>\n",
       "    <tr>\n",
       "      <th>2023</th>\n",
       "      <td>0.09173</td>\n",
       "      <td>0.19069</td>\n",
       "    </tr>\n",
       "  </tbody>\n",
       "</table>\n",
       "</div>"
      ],
      "text/plain": [
       "      SBERP.MOEX  LKOH.MOEX\n",
       "2006     0.00000    0.00000\n",
       "2007     0.00667    0.01834\n",
       "2008     0.07174    0.04368\n",
       "2009     0.00913    0.02952\n",
       "2010     0.00599    0.02985\n",
       "2011     0.01943    0.03469\n",
       "2012     0.03848    0.05749\n",
       "2013     0.03999    0.04902\n",
       "2014     0.08488    0.05393\n",
       "2015     0.00588    0.06778\n",
       "2016     0.01518    0.05422\n",
       "2017     0.03175    0.06148\n",
       "2018     0.07221    0.04503\n",
       "2019     0.07008    0.05625\n",
       "2020     0.07768    0.07663\n",
       "2021     0.06723    0.08417\n",
       "2022     0.00000    0.19472\n",
       "2023     0.09173    0.19069"
      ]
     },
     "execution_count": 9,
     "metadata": {},
     "output_type": "execute_result"
    }
   ],
   "source": [
    "al.dividend_yield_annual"
   ]
  },
  {
   "cell_type": "code",
   "execution_count": 11,
   "metadata": {
    "collapsed": false,
    "jupyter": {
     "outputs_hidden": false
    }
   },
   "outputs": [
    {
     "data": {
      "text/html": [
       "<div>\n",
       "<style scoped>\n",
       "    .dataframe tbody tr th:only-of-type {\n",
       "        vertical-align: middle;\n",
       "    }\n",
       "\n",
       "    .dataframe tbody tr th {\n",
       "        vertical-align: top;\n",
       "    }\n",
       "\n",
       "    .dataframe thead th {\n",
       "        text-align: right;\n",
       "    }\n",
       "</style>\n",
       "<table border=\"1\" class=\"dataframe\">\n",
       "  <thead>\n",
       "    <tr style=\"text-align: right;\">\n",
       "      <th></th>\n",
       "      <th>SBERP.MOEX</th>\n",
       "      <th>LKOH.MOEX</th>\n",
       "    </tr>\n",
       "  </thead>\n",
       "  <tbody>\n",
       "    <tr>\n",
       "      <th>2006</th>\n",
       "      <td>0.00000</td>\n",
       "      <td>0.00000</td>\n",
       "    </tr>\n",
       "    <tr>\n",
       "      <th>2007</th>\n",
       "      <td>0.00667</td>\n",
       "      <td>0.01834</td>\n",
       "    </tr>\n",
       "    <tr>\n",
       "      <th>2008</th>\n",
       "      <td>0.07174</td>\n",
       "      <td>0.04368</td>\n",
       "    </tr>\n",
       "    <tr>\n",
       "      <th>2009</th>\n",
       "      <td>0.00913</td>\n",
       "      <td>0.02952</td>\n",
       "    </tr>\n",
       "    <tr>\n",
       "      <th>2010</th>\n",
       "      <td>0.00599</td>\n",
       "      <td>0.02985</td>\n",
       "    </tr>\n",
       "    <tr>\n",
       "      <th>2011</th>\n",
       "      <td>0.01943</td>\n",
       "      <td>0.03469</td>\n",
       "    </tr>\n",
       "    <tr>\n",
       "      <th>2012</th>\n",
       "      <td>0.03848</td>\n",
       "      <td>0.05749</td>\n",
       "    </tr>\n",
       "    <tr>\n",
       "      <th>2013</th>\n",
       "      <td>0.03999</td>\n",
       "      <td>0.04902</td>\n",
       "    </tr>\n",
       "    <tr>\n",
       "      <th>2014</th>\n",
       "      <td>0.08488</td>\n",
       "      <td>0.05393</td>\n",
       "    </tr>\n",
       "    <tr>\n",
       "      <th>2015</th>\n",
       "      <td>0.00588</td>\n",
       "      <td>0.06778</td>\n",
       "    </tr>\n",
       "    <tr>\n",
       "      <th>2016</th>\n",
       "      <td>0.01518</td>\n",
       "      <td>0.05422</td>\n",
       "    </tr>\n",
       "    <tr>\n",
       "      <th>2017</th>\n",
       "      <td>0.03175</td>\n",
       "      <td>0.06148</td>\n",
       "    </tr>\n",
       "    <tr>\n",
       "      <th>2018</th>\n",
       "      <td>0.07221</td>\n",
       "      <td>0.04503</td>\n",
       "    </tr>\n",
       "    <tr>\n",
       "      <th>2019</th>\n",
       "      <td>0.07008</td>\n",
       "      <td>0.05625</td>\n",
       "    </tr>\n",
       "    <tr>\n",
       "      <th>2020</th>\n",
       "      <td>0.07768</td>\n",
       "      <td>0.07663</td>\n",
       "    </tr>\n",
       "    <tr>\n",
       "      <th>2021</th>\n",
       "      <td>0.06723</td>\n",
       "      <td>0.08417</td>\n",
       "    </tr>\n",
       "    <tr>\n",
       "      <th>2022</th>\n",
       "      <td>0.00000</td>\n",
       "      <td>0.19472</td>\n",
       "    </tr>\n",
       "    <tr>\n",
       "      <th>2023</th>\n",
       "      <td>0.09173</td>\n",
       "      <td>0.19069</td>\n",
       "    </tr>\n",
       "  </tbody>\n",
       "</table>\n",
       "</div>"
      ],
      "text/plain": [
       "      SBERP.MOEX  LKOH.MOEX\n",
       "2006     0.00000    0.00000\n",
       "2007     0.00667    0.01834\n",
       "2008     0.07174    0.04368\n",
       "2009     0.00913    0.02952\n",
       "2010     0.00599    0.02985\n",
       "2011     0.01943    0.03469\n",
       "2012     0.03848    0.05749\n",
       "2013     0.03999    0.04902\n",
       "2014     0.08488    0.05393\n",
       "2015     0.00588    0.06778\n",
       "2016     0.01518    0.05422\n",
       "2017     0.03175    0.06148\n",
       "2018     0.07221    0.04503\n",
       "2019     0.07008    0.05625\n",
       "2020     0.07768    0.07663\n",
       "2021     0.06723    0.08417\n",
       "2022     0.00000    0.19472\n",
       "2023     0.09173    0.19069"
      ]
     },
     "execution_count": 11,
     "metadata": {},
     "output_type": "execute_result"
    }
   ],
   "source": [
    "al.dividend_yield.resample(rule=\"Y\").last()"
   ]
  },
  {
   "cell_type": "code",
   "execution_count": 12,
   "metadata": {
    "collapsed": false,
    "jupyter": {
     "outputs_hidden": false
    }
   },
   "outputs": [
    {
     "data": {
      "text/plain": [
       "<Axes: >"
      ]
     },
     "execution_count": 12,
     "metadata": {},
     "output_type": "execute_result"
    },
    {
     "data": {
      "image/png": "[encoded data removed]",
      "text/plain": [
       "<Figure size 1200x800 with 1 Axes>"
      ]
     },
     "metadata": {},
     "output_type": "display_data"
    }
   ],
   "source": [
    "al.dividend_yield_annual.plot(kind=\"bar\")"
   ]
  },
  {
   "cell_type": "code",
   "execution_count": null,
   "metadata": {
    "collapsed": false,
    "jupyter": {
     "outputs_hidden": false
    }
   },
   "outputs": [],
   "source": []
  },
  {
   "cell_type": "code",
   "execution_count": 13,
   "metadata": {
    "collapsed": false,
    "jupyter": {
     "outputs_hidden": false
    }
   },
   "outputs": [
    {
     "data": {
      "text/plain": [
       "SBERP.MOEX   -1.00000\n",
       "LKOH.MOEX     0.28652\n",
       "dtype: float64"
      ]
     },
     "execution_count": 13,
     "metadata": {},
     "output_type": "execute_result"
    }
   ],
   "source": [
    "al.get_dividend_mean_growth_rate()"
   ]
  },
  {
   "cell_type": "code",
   "execution_count": 14,
   "metadata": {
    "collapsed": false,
    "jupyter": {
     "outputs_hidden": false
    }
   },
   "outputs": [
    {
     "data": {
      "text/plain": [
       "SBERP.MOEX   0.05166\n",
       "LKOH.MOEX    0.08849\n",
       "dtype: float64"
      ]
     },
     "execution_count": 14,
     "metadata": {},
     "output_type": "execute_result"
    }
   ],
   "source": [
    "al.get_dividend_mean_yield(10)"
   ]
  },
  {
   "cell_type": "markdown",
   "metadata": {
    "collapsed": false,
    "jupyter": {
     "outputs_hidden": false
    }
   },
   "source": [
    "## Plot Wealth"
   ]
  },
  {
   "cell_type": "code",
   "execution_count": 15,
   "metadata": {
    "collapsed": false,
    "jupyter": {
     "outputs_hidden": false
    }
   },
   "outputs": [],
   "source": [
    "def plot_wealth(\n",
    "    al: object,\n",
    "    first_date: str,\n",
    "    last_date: str,\n",
    "    legend: list,\n",
    "    title: str = None,\n",
    "    logy: bool = False,\n",
    "    figsize: list = [12, 10],\n",
    "):\n",
    "    fig, ax = plt.subplots(figsize=figsize)\n",
    "    # fig.subplots_adjust(bottom=0.2, top=1.5)\n",
    "    first_date_dt = pd.to_datetime(first_date)\n",
    "    last_date_dt = pd.to_datetime(last_date)\n",
    "\n",
    "    wealth = al.wealth_indexes\n",
    "    wealth = wealth.loc[first_date:last_date, :]\n",
    "    index = wealth.index.to_timestamp()\n",
    "    min_value = wealth.to_numpy().min()\n",
    "    for i, asset in enumerate(wealth):\n",
    "        if i == len(wealth.columns) - 1:\n",
    "            # Inflation is in the last column\n",
    "            continue\n",
    "        ax.plot(index, wealth[asset], linewidth=2)\n",
    "    ax.fill_between(index, min_value, wealth.iloc[:, -1], facecolor=\"grey\", alpha=0.2, label=\"Инфляция\")\n",
    "\n",
    "    # Log scale\n",
    "    y_scale = \"log\" if logy else \"linear\"\n",
    "    ax.set_yscale(y_scale)\n",
    "\n",
    "    # границы графика\n",
    "    ax.set_xlim(first_date_dt, last_date_dt + pd.DateOffset(months=0))\n",
    "    ax.set_ylim(bottom=min_value)\n",
    "\n",
    "    # регулирования надписей оси Х\n",
    "    years = mdates.YearLocator()  # ежегодный формат\n",
    "    years_fmt = mdates.DateFormatter(\"%Y\")\n",
    "    # назначение формата надписей\n",
    "    ax.xaxis.set_major_locator(years)\n",
    "    ax.xaxis.set_major_formatter(years_fmt)\n",
    "\n",
    "    ax.legend(legend + [\"Инфляция\"], loc=\"upper left\")\n",
    "    ax.set_title(title)\n",
    "\n",
    "    # ax.set_ylabel('Инфляция за 12 месяцев, %')"
   ]
  },
  {
   "cell_type": "code",
   "execution_count": 16,
   "metadata": {
    "collapsed": false,
    "jupyter": {
     "outputs_hidden": false
    }
   },
   "outputs": [
    {
     "data": {
      "text/plain": [
       "assets           [MCFTR.INDX, SP500TR.INDX]\n",
       "currency                                RUB\n",
       "first_date                          1997-10\n",
       "last_date                           2024-02\n",
       "period_length            26 years, 5 months\n",
       "inflation                              None\n",
       "dtype: object"
      ]
     },
     "execution_count": 16,
     "metadata": {},
     "output_type": "execute_result"
    }
   ],
   "source": [
    "stocks = ok.AssetList([\"MCFTR.INDX\", \"SP500TR.INDX\"], ccy=\"RUB\", inflation=False)\n",
    "stocks"
   ]
  },
  {
   "cell_type": "code",
   "execution_count": 17,
   "metadata": {
    "collapsed": false,
    "jupyter": {
     "outputs_hidden": false
    }
   },
   "outputs": [
    {
     "data": {
      "image/png": "[encoded data removed]",
      "text/plain": [
       "<Figure size 1272.73x909.091 with 1 Axes>"
      ]
     },
     "metadata": {},
     "output_type": "display_data"
    }
   ],
   "source": [
    "plot_wealth(\n",
    "    al=stocks, first_date=\"2003-01\", figsize=(14 / 1.1, 10 / 1.1), last_date=\"2023-01\", legend=[\"Индекс ОФЗ\"], logy=True\n",
    ")"
   ]
  },
  {
   "cell_type": "code",
   "execution_count": null,
   "metadata": {
    "collapsed": false,
    "jupyter": {
     "outputs_hidden": false
    }
   },
   "outputs": [],
   "source": []
  }
 ],
 "metadata": {
  "kernelspec": {
   "display_name": "py311dev",
   "language": "python",
   "name": "py311dev"
  },
  "language_info": {
   "codemirror_mode": {
    "name": "ipython",
    "version": 3
   },
   "file_extension": ".py",
   "mimetype": "text/x-python",
   "name": "python",
   "nbconvert_exporter": "python",
   "pygments_lexer": "ipython3",
   "version": "3.11.9"
  }
 },
 "nbformat": 4,
 "nbformat_minor": 4
}
