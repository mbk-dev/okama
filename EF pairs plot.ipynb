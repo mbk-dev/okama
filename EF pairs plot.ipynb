{
 "cells": [
  {
   "cell_type": "code",
   "execution_count": 21,
   "metadata": {},
   "outputs": [
    {
     "name": "stdout",
     "output_type": "stream",
     "text": [
      "The autoreload extension is already loaded. To reload it, use:\n",
      "  %reload_ext autoreload\n"
     ]
    }
   ],
   "source": [
    "import itertools\n",
    "import matplotlib. pyplot as plt\n",
    "from okama.frontier import Plots, EfficientFrontier\n",
    "%load_ext autoreload\n",
    "%autoreload 2"
   ]
  },
  {
   "cell_type": "code",
   "execution_count": 46,
   "metadata": {},
   "outputs": [],
   "source": [
    "x = Plots(['SPY.US', 'GLD.US', '0165-70287767.RUFUND'], curr='USD')"
   ]
  },
  {
   "cell_type": "code",
   "execution_count": 10,
   "metadata": {},
   "outputs": [
    {
     "data": {
      "text/plain": [
       "[('SPY.US', 'GLD.US'),\n",
       " ('SPY.US', '0165-70287767.RUFUND'),\n",
       " ('GLD.US', '0165-70287767.RUFUND')]"
      ]
     },
     "execution_count": 10,
     "metadata": {},
     "output_type": "execute_result"
    }
   ],
   "source": [
    "list(itertools.combinations(x.tickers, 2))"
   ]
  },
  {
   "cell_type": "code",
   "execution_count": 49,
   "metadata": {},
   "outputs": [
    {
     "name": "stdout",
     "output_type": "stream",
     "text": [
      "Risk                             1.905300e-01\n",
      "Return                           1.017680e-01\n",
      "Return (risk adjusted approx)    1.017382e-01\n",
      "GLD.US                           9.999999e-01\n",
      "SPY.US                           1.490239e-07\n",
      "Name: 39, dtype: float64\n",
      "Risk                             1.475758e-01\n",
      "Return                           9.350226e-02\n",
      "Return (risk adjusted approx)    9.347670e-02\n",
      "0165-70287767.RUFUND             1.850202e-09\n",
      "SPY.US                           1.000000e+00\n",
      "Name: 39, dtype: float64\n",
      "Risk                             0.190530\n",
      "Return                           0.101768\n",
      "Return (risk adjusted approx)    0.101738\n",
      "0165-70287767.RUFUND             0.000000\n",
      "GLD.US                           1.000000\n",
      "Name: 39, dtype: float64\n"
     ]
    },
    {
     "name": "stderr",
     "output_type": "stream",
     "text": [
      "C:\\Users\\Sergey\\OneDrive\\NoteBooks\\okama\\frontier.py:300: MatplotlibDeprecationWarning: Adding an axes using the same arguments as a previous axes currently reuses the earlier instance.  In a future version, a new instance will always be created and returned.  Meanwhile, this warning can be suppressed, and the future behavior ensured, by passing a unique label to each axes instance.\n",
      "  ax = plt.axes()\n"
     ]
    },
    {
     "data": {
      "text/plain": [
       "<matplotlib.axes._subplots.AxesSubplot at 0x1a08e527a60>"
      ]
     },
     "execution_count": 49,
     "metadata": {},
     "output_type": "execute_result"
    },
    {
     "data": {
      "image/png": "[encoded data removed]",
      "text/plain": [
       "<Figure size 432x288 with 1 Axes>"
      ]
     },
     "metadata": {
      "needs_background": "light"
     },
     "output_type": "display_data"
    }
   ],
   "source": [
    "x.plot_pair_ef()"
   ]
  },
  {
   "cell_type": "code",
   "execution_count": 42,
   "metadata": {},
   "outputs": [
    {
     "data": {
      "text/plain": [
       "Period('2004-01', 'M')"
      ]
     },
     "execution_count": 42,
     "metadata": {},
     "output_type": "execute_result"
    }
   ],
   "source": [
    "EfficientFrontier(['SPY.US', '0165-70287767.RUFUND']).ror.index[0]"
   ]
  },
  {
   "cell_type": "code",
   "execution_count": 19,
   "metadata": {},
   "outputs": [],
   "source": [
    "ef = EfficientFrontier(['SPY.US', '0165-70287767.RUFUND'], curr='USD').ef_points"
   ]
  },
  {
   "cell_type": "code",
   "execution_count": null,
   "metadata": {},
   "outputs": [],
   "source": []
  },
  {
   "cell_type": "code",
   "execution_count": 43,
   "metadata": {},
   "outputs": [
    {
     "data": {
      "text/html": [
       "<div>\n",
       "<style scoped>\n",
       "    .dataframe tbody tr th:only-of-type {\n",
       "        vertical-align: middle;\n",
       "    }\n",
       "\n",
       "    .dataframe tbody tr th {\n",
       "        vertical-align: top;\n",
       "    }\n",
       "\n",
       "    .dataframe thead th {\n",
       "        text-align: right;\n",
       "    }\n",
       "</style>\n",
       "<table border=\"1\" class=\"dataframe\">\n",
       "  <thead>\n",
       "    <tr style=\"text-align: right;\">\n",
       "      <th></th>\n",
       "      <th>Risk</th>\n",
       "      <th>Return</th>\n",
       "      <th>Return (risk adjusted approx)</th>\n",
       "      <th>0165-70287767.RUFUND</th>\n",
       "      <th>SPY.US</th>\n",
       "    </tr>\n",
       "  </thead>\n",
       "  <tbody>\n",
       "    <tr>\n",
       "      <th>35</th>\n",
       "      <td>0.141477</td>\n",
       "      <td>0.090758</td>\n",
       "      <td>0.090733</td>\n",
       "      <td>1.025641e-01</td>\n",
       "      <td>0.897436</td>\n",
       "    </tr>\n",
       "    <tr>\n",
       "      <th>36</th>\n",
       "      <td>0.142836</td>\n",
       "      <td>0.091443</td>\n",
       "      <td>0.091419</td>\n",
       "      <td>7.692308e-02</td>\n",
       "      <td>0.923077</td>\n",
       "    </tr>\n",
       "    <tr>\n",
       "      <th>37</th>\n",
       "      <td>0.144308</td>\n",
       "      <td>0.092129</td>\n",
       "      <td>0.092104</td>\n",
       "      <td>5.128205e-02</td>\n",
       "      <td>0.948718</td>\n",
       "    </tr>\n",
       "    <tr>\n",
       "      <th>38</th>\n",
       "      <td>0.145888</td>\n",
       "      <td>0.092815</td>\n",
       "      <td>0.092790</td>\n",
       "      <td>2.564103e-02</td>\n",
       "      <td>0.974359</td>\n",
       "    </tr>\n",
       "    <tr>\n",
       "      <th>39</th>\n",
       "      <td>0.147576</td>\n",
       "      <td>0.093502</td>\n",
       "      <td>0.093477</td>\n",
       "      <td>1.850202e-09</td>\n",
       "      <td>1.000000</td>\n",
       "    </tr>\n",
       "  </tbody>\n",
       "</table>\n",
       "</div>"
      ],
      "text/plain": [
       "        Risk    Return  Return (risk adjusted approx)  0165-70287767.RUFUND  \\\n",
       "35  0.141477  0.090758                       0.090733          1.025641e-01   \n",
       "36  0.142836  0.091443                       0.091419          7.692308e-02   \n",
       "37  0.144308  0.092129                       0.092104          5.128205e-02   \n",
       "38  0.145888  0.092815                       0.092790          2.564103e-02   \n",
       "39  0.147576  0.093502                       0.093477          1.850202e-09   \n",
       "\n",
       "      SPY.US  \n",
       "35  0.897436  \n",
       "36  0.923077  \n",
       "37  0.948718  \n",
       "38  0.974359  \n",
       "39  1.000000  "
      ]
     },
     "execution_count": 43,
     "metadata": {},
     "output_type": "execute_result"
    }
   ],
   "source": [
    "ef.tail()"
   ]
  },
  {
   "cell_type": "code",
   "execution_count": 24,
   "metadata": {},
   "outputs": [],
   "source": [
    "x = Plots(['SPY.US', '0165-70287767.RUFUND'], curr='USD')"
   ]
  },
  {
   "cell_type": "code",
   "execution_count": 37,
   "metadata": {},
   "outputs": [
    {
     "name": "stderr",
     "output_type": "stream",
     "text": [
      "C:\\Users\\Sergey\\OneDrive\\NoteBooks\\okama\\frontier.py:300: MatplotlibDeprecationWarning: Adding an axes using the same arguments as a previous axes currently reuses the earlier instance.  In a future version, a new instance will always be created and returned.  Meanwhile, this warning can be suppressed, and the future behavior ensured, by passing a unique label to each axes instance.\n",
      "  ax = plt.axes()\n"
     ]
    },
    {
     "data": {
      "text/plain": [
       "<matplotlib.axes._subplots.AxesSubplot at 0x1a08e88a6d0>"
      ]
     },
     "execution_count": 37,
     "metadata": {},
     "output_type": "execute_result"
    },
    {
     "data": {
      "image/png": "[encoded data removed]",
      "text/plain": [
       "<Figure size 864x432 with 1 Axes>"
      ]
     },
     "metadata": {
      "needs_background": "light"
     },
     "output_type": "display_data"
    }
   ],
   "source": [
    "fig = plt.figure(figsize=(12,6))\n",
    "#fig.subplots_adjust(bottom=0.2, top=1.5)\n",
    "ax = plt.axes()\n",
    "ax.plot(ef.Risk, ef.Return)\n",
    "# ax.plot(ef.Risk, ef.iloc[:,3])\n",
    "# ax.plot(у.Risk, у.CAGR)\n",
    "#ax.plot(df.Risk, df['Return (risk adjusted approx)'])\n",
    "#ax.plot(df.Risk, df.Return)\n",
    "x.plot_assets(type='mean')"
   ]
  },
  {
   "cell_type": "code",
   "execution_count": null,
   "metadata": {},
   "outputs": [],
   "source": []
  }
 ],
 "metadata": {
  "kernelspec": {
   "display_name": "py38",
   "language": "python",
   "name": "py38"
  },
  "language_info": {
   "codemirror_mode": {
    "name": "ipython",
    "version": 3
   },
   "file_extension": ".py",
   "mimetype": "text/x-python",
   "name": "python",
   "nbconvert_exporter": "python",
   "pygments_lexer": "ipython3",
   "version": "3.8.2"
  }
 },
 "nbformat": 4,
 "nbformat_minor": 4
}
